{
  "nbformat": 4,
  "nbformat_minor": 0,
  "metadata": {
    "colab": {
      "name": "Project_Bike_Sales_in_Europe.ipynb",
      "provenance": [],
      "collapsed_sections": [],
      "authorship_tag": "ABX9TyOLIbvClegkp/6QTa+gAsNz",
      "include_colab_link": true
    },
    "kernelspec": {
      "name": "python3",
      "display_name": "Python 3"
    },
    "language_info": {
      "name": "python"
    }
  },
  "cells": [
    {
      "cell_type": "markdown",
      "metadata": {
        "id": "view-in-github",
        "colab_type": "text"
      },
      "source": [
        "<a href=\"https://colab.research.google.com/github/wahyunh10/Project-Bike-Sales-in-Europe/blob/main/Project_Bike_Sales_in_Europe.ipynb\" target=\"_parent\"><img src=\"https://colab.research.google.com/assets/colab-badge.svg\" alt=\"Open In Colab\"/></a>"
      ]
    },
    {
      "cell_type": "markdown",
      "source": [
        "# **Bike Sales Dataset**"
      ],
      "metadata": {
        "id": "gALCO10EqguQ"
      }
    },
    {
      "cell_type": "markdown",
      "source": [
        "**Introduction**\n",
        "\n",
        "Let's Explore bike store sales in europe. All of the data can be downloaded directly via kaggle.\n",
        "\n",
        "The data itself has the LIMITATION that all the transaction did not include the user id. So, the assumption is all the transaction is unique for each user."
      ],
      "metadata": {
        "id": "8xUCBVs3q6Jp"
      }
    },
    {
      "cell_type": "markdown",
      "source": [
        "**Data Preprocessing**\n",
        "\n",
        "Import the csv file as panda DataFrames and examine it."
      ],
      "metadata": {
        "id": "iERHe6iyrH0M"
      }
    },
    {
      "cell_type": "code",
      "execution_count": 2,
      "metadata": {
        "id": "N9GX1bbiqRZi"
      },
      "outputs": [],
      "source": [
        "#Import libraries\n",
        "import pandas as pd\n",
        "import numpy as np\n",
        "from matplotlib import pyplot as plt\n",
        "import seaborn as sns\n",
        "import warnings\n",
        "warnings.filterwarnings('ignore')\n",
        "warnings.simplefilter('ignore')"
      ]
    },
    {
      "cell_type": "code",
      "source": [
        "#Import the excel file and examine it\n",
        "df = pd.read_csv('Sales.csv')\n",
        "df.head()"
      ],
      "metadata": {
        "colab": {
          "base_uri": "https://localhost:8080/",
          "height": 444
        },
        "id": "vqvuqgfCtZZ9",
        "outputId": "f3828322-54db-477a-f1e7-f6306d419acb"
      },
      "execution_count": 3,
      "outputs": [
        {
          "output_type": "execute_result",
          "data": {
            "text/plain": [
              "         Date  Day     Month  Year  Customer_Age       Age_Group  \\\n",
              "0  2013-11-26   26  November  2013            19     Youth (<25)   \n",
              "1  2015-11-26   26  November  2015            19     Youth (<25)   \n",
              "2  2014-03-23   23     March  2014            49  Adults (35-64)   \n",
              "3  2016-03-23   23     March  2016            49  Adults (35-64)   \n",
              "4  2014-05-15   15       May  2014            47  Adults (35-64)   \n",
              "\n",
              "  Customer_Gender    Country             State Product_Category Sub_Category  \\\n",
              "0               M     Canada  British Columbia      Accessories   Bike Racks   \n",
              "1               M     Canada  British Columbia      Accessories   Bike Racks   \n",
              "2               M  Australia   New South Wales      Accessories   Bike Racks   \n",
              "3               M  Australia   New South Wales      Accessories   Bike Racks   \n",
              "4               F  Australia   New South Wales      Accessories   Bike Racks   \n",
              "\n",
              "               Product  Order_Quantity  Unit_Cost  Unit_Price  Profit  Cost  \\\n",
              "0  Hitch Rack - 4-Bike               8         45         120     590   360   \n",
              "1  Hitch Rack - 4-Bike               8         45         120     590   360   \n",
              "2  Hitch Rack - 4-Bike              23         45         120    1366  1035   \n",
              "3  Hitch Rack - 4-Bike              20         45         120    1188   900   \n",
              "4  Hitch Rack - 4-Bike               4         45         120     238   180   \n",
              "\n",
              "   Revenue  \n",
              "0      950  \n",
              "1      950  \n",
              "2     2401  \n",
              "3     2088  \n",
              "4      418  "
            ],
            "text/html": [
              "\n",
              "  <div id=\"df-24b1a713-d45b-4d03-b8fa-680b19edc712\">\n",
              "    <div class=\"colab-df-container\">\n",
              "      <div>\n",
              "<style scoped>\n",
              "    .dataframe tbody tr th:only-of-type {\n",
              "        vertical-align: middle;\n",
              "    }\n",
              "\n",
              "    .dataframe tbody tr th {\n",
              "        vertical-align: top;\n",
              "    }\n",
              "\n",
              "    .dataframe thead th {\n",
              "        text-align: right;\n",
              "    }\n",
              "</style>\n",
              "<table border=\"1\" class=\"dataframe\">\n",
              "  <thead>\n",
              "    <tr style=\"text-align: right;\">\n",
              "      <th></th>\n",
              "      <th>Date</th>\n",
              "      <th>Day</th>\n",
              "      <th>Month</th>\n",
              "      <th>Year</th>\n",
              "      <th>Customer_Age</th>\n",
              "      <th>Age_Group</th>\n",
              "      <th>Customer_Gender</th>\n",
              "      <th>Country</th>\n",
              "      <th>State</th>\n",
              "      <th>Product_Category</th>\n",
              "      <th>Sub_Category</th>\n",
              "      <th>Product</th>\n",
              "      <th>Order_Quantity</th>\n",
              "      <th>Unit_Cost</th>\n",
              "      <th>Unit_Price</th>\n",
              "      <th>Profit</th>\n",
              "      <th>Cost</th>\n",
              "      <th>Revenue</th>\n",
              "    </tr>\n",
              "  </thead>\n",
              "  <tbody>\n",
              "    <tr>\n",
              "      <th>0</th>\n",
              "      <td>2013-11-26</td>\n",
              "      <td>26</td>\n",
              "      <td>November</td>\n",
              "      <td>2013</td>\n",
              "      <td>19</td>\n",
              "      <td>Youth (&lt;25)</td>\n",
              "      <td>M</td>\n",
              "      <td>Canada</td>\n",
              "      <td>British Columbia</td>\n",
              "      <td>Accessories</td>\n",
              "      <td>Bike Racks</td>\n",
              "      <td>Hitch Rack - 4-Bike</td>\n",
              "      <td>8</td>\n",
              "      <td>45</td>\n",
              "      <td>120</td>\n",
              "      <td>590</td>\n",
              "      <td>360</td>\n",
              "      <td>950</td>\n",
              "    </tr>\n",
              "    <tr>\n",
              "      <th>1</th>\n",
              "      <td>2015-11-26</td>\n",
              "      <td>26</td>\n",
              "      <td>November</td>\n",
              "      <td>2015</td>\n",
              "      <td>19</td>\n",
              "      <td>Youth (&lt;25)</td>\n",
              "      <td>M</td>\n",
              "      <td>Canada</td>\n",
              "      <td>British Columbia</td>\n",
              "      <td>Accessories</td>\n",
              "      <td>Bike Racks</td>\n",
              "      <td>Hitch Rack - 4-Bike</td>\n",
              "      <td>8</td>\n",
              "      <td>45</td>\n",
              "      <td>120</td>\n",
              "      <td>590</td>\n",
              "      <td>360</td>\n",
              "      <td>950</td>\n",
              "    </tr>\n",
              "    <tr>\n",
              "      <th>2</th>\n",
              "      <td>2014-03-23</td>\n",
              "      <td>23</td>\n",
              "      <td>March</td>\n",
              "      <td>2014</td>\n",
              "      <td>49</td>\n",
              "      <td>Adults (35-64)</td>\n",
              "      <td>M</td>\n",
              "      <td>Australia</td>\n",
              "      <td>New South Wales</td>\n",
              "      <td>Accessories</td>\n",
              "      <td>Bike Racks</td>\n",
              "      <td>Hitch Rack - 4-Bike</td>\n",
              "      <td>23</td>\n",
              "      <td>45</td>\n",
              "      <td>120</td>\n",
              "      <td>1366</td>\n",
              "      <td>1035</td>\n",
              "      <td>2401</td>\n",
              "    </tr>\n",
              "    <tr>\n",
              "      <th>3</th>\n",
              "      <td>2016-03-23</td>\n",
              "      <td>23</td>\n",
              "      <td>March</td>\n",
              "      <td>2016</td>\n",
              "      <td>49</td>\n",
              "      <td>Adults (35-64)</td>\n",
              "      <td>M</td>\n",
              "      <td>Australia</td>\n",
              "      <td>New South Wales</td>\n",
              "      <td>Accessories</td>\n",
              "      <td>Bike Racks</td>\n",
              "      <td>Hitch Rack - 4-Bike</td>\n",
              "      <td>20</td>\n",
              "      <td>45</td>\n",
              "      <td>120</td>\n",
              "      <td>1188</td>\n",
              "      <td>900</td>\n",
              "      <td>2088</td>\n",
              "    </tr>\n",
              "    <tr>\n",
              "      <th>4</th>\n",
              "      <td>2014-05-15</td>\n",
              "      <td>15</td>\n",
              "      <td>May</td>\n",
              "      <td>2014</td>\n",
              "      <td>47</td>\n",
              "      <td>Adults (35-64)</td>\n",
              "      <td>F</td>\n",
              "      <td>Australia</td>\n",
              "      <td>New South Wales</td>\n",
              "      <td>Accessories</td>\n",
              "      <td>Bike Racks</td>\n",
              "      <td>Hitch Rack - 4-Bike</td>\n",
              "      <td>4</td>\n",
              "      <td>45</td>\n",
              "      <td>120</td>\n",
              "      <td>238</td>\n",
              "      <td>180</td>\n",
              "      <td>418</td>\n",
              "    </tr>\n",
              "  </tbody>\n",
              "</table>\n",
              "</div>\n",
              "      <button class=\"colab-df-convert\" onclick=\"convertToInteractive('df-24b1a713-d45b-4d03-b8fa-680b19edc712')\"\n",
              "              title=\"Convert this dataframe to an interactive table.\"\n",
              "              style=\"display:none;\">\n",
              "        \n",
              "  <svg xmlns=\"http://www.w3.org/2000/svg\" height=\"24px\"viewBox=\"0 0 24 24\"\n",
              "       width=\"24px\">\n",
              "    <path d=\"M0 0h24v24H0V0z\" fill=\"none\"/>\n",
              "    <path d=\"M18.56 5.44l.94 2.06.94-2.06 2.06-.94-2.06-.94-.94-2.06-.94 2.06-2.06.94zm-11 1L8.5 8.5l.94-2.06 2.06-.94-2.06-.94L8.5 2.5l-.94 2.06-2.06.94zm10 10l.94 2.06.94-2.06 2.06-.94-2.06-.94-.94-2.06-.94 2.06-2.06.94z\"/><path d=\"M17.41 7.96l-1.37-1.37c-.4-.4-.92-.59-1.43-.59-.52 0-1.04.2-1.43.59L10.3 9.45l-7.72 7.72c-.78.78-.78 2.05 0 2.83L4 21.41c.39.39.9.59 1.41.59.51 0 1.02-.2 1.41-.59l7.78-7.78 2.81-2.81c.8-.78.8-2.07 0-2.86zM5.41 20L4 18.59l7.72-7.72 1.47 1.35L5.41 20z\"/>\n",
              "  </svg>\n",
              "      </button>\n",
              "      \n",
              "  <style>\n",
              "    .colab-df-container {\n",
              "      display:flex;\n",
              "      flex-wrap:wrap;\n",
              "      gap: 12px;\n",
              "    }\n",
              "\n",
              "    .colab-df-convert {\n",
              "      background-color: #E8F0FE;\n",
              "      border: none;\n",
              "      border-radius: 50%;\n",
              "      cursor: pointer;\n",
              "      display: none;\n",
              "      fill: #1967D2;\n",
              "      height: 32px;\n",
              "      padding: 0 0 0 0;\n",
              "      width: 32px;\n",
              "    }\n",
              "\n",
              "    .colab-df-convert:hover {\n",
              "      background-color: #E2EBFA;\n",
              "      box-shadow: 0px 1px 2px rgba(60, 64, 67, 0.3), 0px 1px 3px 1px rgba(60, 64, 67, 0.15);\n",
              "      fill: #174EA6;\n",
              "    }\n",
              "\n",
              "    [theme=dark] .colab-df-convert {\n",
              "      background-color: #3B4455;\n",
              "      fill: #D2E3FC;\n",
              "    }\n",
              "\n",
              "    [theme=dark] .colab-df-convert:hover {\n",
              "      background-color: #434B5C;\n",
              "      box-shadow: 0px 1px 3px 1px rgba(0, 0, 0, 0.15);\n",
              "      filter: drop-shadow(0px 1px 2px rgba(0, 0, 0, 0.3));\n",
              "      fill: #FFFFFF;\n",
              "    }\n",
              "  </style>\n",
              "\n",
              "      <script>\n",
              "        const buttonEl =\n",
              "          document.querySelector('#df-24b1a713-d45b-4d03-b8fa-680b19edc712 button.colab-df-convert');\n",
              "        buttonEl.style.display =\n",
              "          google.colab.kernel.accessAllowed ? 'block' : 'none';\n",
              "\n",
              "        async function convertToInteractive(key) {\n",
              "          const element = document.querySelector('#df-24b1a713-d45b-4d03-b8fa-680b19edc712');\n",
              "          const dataTable =\n",
              "            await google.colab.kernel.invokeFunction('convertToInteractive',\n",
              "                                                     [key], {});\n",
              "          if (!dataTable) return;\n",
              "\n",
              "          const docLinkHtml = 'Like what you see? Visit the ' +\n",
              "            '<a target=\"_blank\" href=https://colab.research.google.com/notebooks/data_table.ipynb>data table notebook</a>'\n",
              "            + ' to learn more about interactive tables.';\n",
              "          element.innerHTML = '';\n",
              "          dataTable['output_type'] = 'display_data';\n",
              "          await google.colab.output.renderOutput(dataTable, element);\n",
              "          const docLink = document.createElement('div');\n",
              "          docLink.innerHTML = docLinkHtml;\n",
              "          element.appendChild(docLink);\n",
              "        }\n",
              "      </script>\n",
              "    </div>\n",
              "  </div>\n",
              "  "
            ]
          },
          "metadata": {},
          "execution_count": 3
        }
      ]
    },
    {
      "cell_type": "code",
      "source": [
        "df.shape"
      ],
      "metadata": {
        "colab": {
          "base_uri": "https://localhost:8080/"
        },
        "id": "jmU2c1NouLoQ",
        "outputId": "45198dac-ee66-41f4-d7f1-0234843b15ac"
      },
      "execution_count": 4,
      "outputs": [
        {
          "output_type": "execute_result",
          "data": {
            "text/plain": [
              "(113036, 18)"
            ]
          },
          "metadata": {},
          "execution_count": 4
        }
      ]
    },
    {
      "cell_type": "markdown",
      "source": [
        "**Cleaning the Dataset:** \n",
        "\n",
        "Dealing with missing values, correct and create necessary date data types, and drop the duplicate."
      ],
      "metadata": {
        "id": "LN0ou-N0uQNU"
      }
    },
    {
      "cell_type": "code",
      "source": [
        "#Investigate missing value\n",
        "df.isna().sum()"
      ],
      "metadata": {
        "colab": {
          "base_uri": "https://localhost:8080/"
        },
        "id": "BocOonA9uR7u",
        "outputId": "c9720dba-e4f4-4bb7-cda1-b629cc69d7f7"
      },
      "execution_count": 5,
      "outputs": [
        {
          "output_type": "execute_result",
          "data": {
            "text/plain": [
              "Date                0\n",
              "Day                 0\n",
              "Month               0\n",
              "Year                0\n",
              "Customer_Age        0\n",
              "Age_Group           0\n",
              "Customer_Gender     0\n",
              "Country             0\n",
              "State               0\n",
              "Product_Category    0\n",
              "Sub_Category        0\n",
              "Product             0\n",
              "Order_Quantity      0\n",
              "Unit_Cost           0\n",
              "Unit_Price          0\n",
              "Profit              0\n",
              "Cost                0\n",
              "Revenue             0\n",
              "dtype: int64"
            ]
          },
          "metadata": {},
          "execution_count": 5
        }
      ]
    },
    {
      "cell_type": "code",
      "source": [
        "df.dtypes"
      ],
      "metadata": {
        "colab": {
          "base_uri": "https://localhost:8080/"
        },
        "id": "OQSrjfwOui1r",
        "outputId": "67e99f8f-6231-4720-e806-64f9b30e4e0d"
      },
      "execution_count": 6,
      "outputs": [
        {
          "output_type": "execute_result",
          "data": {
            "text/plain": [
              "Date                object\n",
              "Day                  int64\n",
              "Month               object\n",
              "Year                 int64\n",
              "Customer_Age         int64\n",
              "Age_Group           object\n",
              "Customer_Gender     object\n",
              "Country             object\n",
              "State               object\n",
              "Product_Category    object\n",
              "Sub_Category        object\n",
              "Product             object\n",
              "Order_Quantity       int64\n",
              "Unit_Cost            int64\n",
              "Unit_Price           int64\n",
              "Profit               int64\n",
              "Cost                 int64\n",
              "Revenue              int64\n",
              "dtype: object"
            ]
          },
          "metadata": {},
          "execution_count": 6
        }
      ]
    },
    {
      "cell_type": "code",
      "source": [
        "#correct and create necessary date data types\n",
        "df['Date'] = pd.to_datetime(df['Date'])\n",
        "df['month_year'] = pd.to_datetime(df['Date']).dt.to_period('M')\n",
        "df['Day_of_Weekend'] = df['Date'].dt.day_name()\n",
        "df['Month_Name'] = df['Date'].dt.month_name().str[:3]"
      ],
      "metadata": {
        "id": "1cMdKC99vJ8y"
      },
      "execution_count": 7,
      "outputs": []
    },
    {
      "cell_type": "code",
      "source": [
        "#Investigate the duplicate\n",
        "df.duplicated().sum()"
      ],
      "metadata": {
        "colab": {
          "base_uri": "https://localhost:8080/"
        },
        "id": "fAFcIkSwvLzM",
        "outputId": "f766a1a5-9bf7-4b29-9fb9-818af2bbf91d"
      },
      "execution_count": 8,
      "outputs": [
        {
          "output_type": "execute_result",
          "data": {
            "text/plain": [
              "1000"
            ]
          },
          "metadata": {},
          "execution_count": 8
        }
      ]
    },
    {
      "cell_type": "code",
      "source": [
        "#drop the duplicate\n",
        "df.drop_duplicates(inplace = True)\n",
        "print(df.shape)"
      ],
      "metadata": {
        "colab": {
          "base_uri": "https://localhost:8080/"
        },
        "id": "54lAOsbQvQKW",
        "outputId": "a03ae389-c286-4d01-f6a4-df6d6a600deb"
      },
      "execution_count": 9,
      "outputs": [
        {
          "output_type": "stream",
          "name": "stdout",
          "text": [
            "(112036, 21)\n"
          ]
        }
      ]
    },
    {
      "cell_type": "code",
      "source": [
        "#final DataFrame\n",
        "df.head()"
      ],
      "metadata": {
        "colab": {
          "base_uri": "https://localhost:8080/",
          "height": 473
        },
        "id": "-qmZDvdqvTTz",
        "outputId": "cdced714-198a-4e05-9d1f-7ced6100a38d"
      },
      "execution_count": 10,
      "outputs": [
        {
          "output_type": "execute_result",
          "data": {
            "text/plain": [
              "        Date  Day     Month  Year  Customer_Age       Age_Group  \\\n",
              "0 2013-11-26   26  November  2013            19     Youth (<25)   \n",
              "1 2015-11-26   26  November  2015            19     Youth (<25)   \n",
              "2 2014-03-23   23     March  2014            49  Adults (35-64)   \n",
              "3 2016-03-23   23     March  2016            49  Adults (35-64)   \n",
              "4 2014-05-15   15       May  2014            47  Adults (35-64)   \n",
              "\n",
              "  Customer_Gender    Country             State Product_Category  ...  \\\n",
              "0               M     Canada  British Columbia      Accessories  ...   \n",
              "1               M     Canada  British Columbia      Accessories  ...   \n",
              "2               M  Australia   New South Wales      Accessories  ...   \n",
              "3               M  Australia   New South Wales      Accessories  ...   \n",
              "4               F  Australia   New South Wales      Accessories  ...   \n",
              "\n",
              "               Product Order_Quantity  Unit_Cost  Unit_Price  Profit  Cost  \\\n",
              "0  Hitch Rack - 4-Bike              8         45         120     590   360   \n",
              "1  Hitch Rack - 4-Bike              8         45         120     590   360   \n",
              "2  Hitch Rack - 4-Bike             23         45         120    1366  1035   \n",
              "3  Hitch Rack - 4-Bike             20         45         120    1188   900   \n",
              "4  Hitch Rack - 4-Bike              4         45         120     238   180   \n",
              "\n",
              "   Revenue  month_year Day_of_Weekend Month_Name  \n",
              "0      950     2013-11        Tuesday        Nov  \n",
              "1      950     2015-11       Thursday        Nov  \n",
              "2     2401     2014-03         Sunday        Mar  \n",
              "3     2088     2016-03      Wednesday        Mar  \n",
              "4      418     2014-05       Thursday        May  \n",
              "\n",
              "[5 rows x 21 columns]"
            ],
            "text/html": [
              "\n",
              "  <div id=\"df-ed5375f3-58e3-43f0-9ab2-ecd2930aa4b9\">\n",
              "    <div class=\"colab-df-container\">\n",
              "      <div>\n",
              "<style scoped>\n",
              "    .dataframe tbody tr th:only-of-type {\n",
              "        vertical-align: middle;\n",
              "    }\n",
              "\n",
              "    .dataframe tbody tr th {\n",
              "        vertical-align: top;\n",
              "    }\n",
              "\n",
              "    .dataframe thead th {\n",
              "        text-align: right;\n",
              "    }\n",
              "</style>\n",
              "<table border=\"1\" class=\"dataframe\">\n",
              "  <thead>\n",
              "    <tr style=\"text-align: right;\">\n",
              "      <th></th>\n",
              "      <th>Date</th>\n",
              "      <th>Day</th>\n",
              "      <th>Month</th>\n",
              "      <th>Year</th>\n",
              "      <th>Customer_Age</th>\n",
              "      <th>Age_Group</th>\n",
              "      <th>Customer_Gender</th>\n",
              "      <th>Country</th>\n",
              "      <th>State</th>\n",
              "      <th>Product_Category</th>\n",
              "      <th>...</th>\n",
              "      <th>Product</th>\n",
              "      <th>Order_Quantity</th>\n",
              "      <th>Unit_Cost</th>\n",
              "      <th>Unit_Price</th>\n",
              "      <th>Profit</th>\n",
              "      <th>Cost</th>\n",
              "      <th>Revenue</th>\n",
              "      <th>month_year</th>\n",
              "      <th>Day_of_Weekend</th>\n",
              "      <th>Month_Name</th>\n",
              "    </tr>\n",
              "  </thead>\n",
              "  <tbody>\n",
              "    <tr>\n",
              "      <th>0</th>\n",
              "      <td>2013-11-26</td>\n",
              "      <td>26</td>\n",
              "      <td>November</td>\n",
              "      <td>2013</td>\n",
              "      <td>19</td>\n",
              "      <td>Youth (&lt;25)</td>\n",
              "      <td>M</td>\n",
              "      <td>Canada</td>\n",
              "      <td>British Columbia</td>\n",
              "      <td>Accessories</td>\n",
              "      <td>...</td>\n",
              "      <td>Hitch Rack - 4-Bike</td>\n",
              "      <td>8</td>\n",
              "      <td>45</td>\n",
              "      <td>120</td>\n",
              "      <td>590</td>\n",
              "      <td>360</td>\n",
              "      <td>950</td>\n",
              "      <td>2013-11</td>\n",
              "      <td>Tuesday</td>\n",
              "      <td>Nov</td>\n",
              "    </tr>\n",
              "    <tr>\n",
              "      <th>1</th>\n",
              "      <td>2015-11-26</td>\n",
              "      <td>26</td>\n",
              "      <td>November</td>\n",
              "      <td>2015</td>\n",
              "      <td>19</td>\n",
              "      <td>Youth (&lt;25)</td>\n",
              "      <td>M</td>\n",
              "      <td>Canada</td>\n",
              "      <td>British Columbia</td>\n",
              "      <td>Accessories</td>\n",
              "      <td>...</td>\n",
              "      <td>Hitch Rack - 4-Bike</td>\n",
              "      <td>8</td>\n",
              "      <td>45</td>\n",
              "      <td>120</td>\n",
              "      <td>590</td>\n",
              "      <td>360</td>\n",
              "      <td>950</td>\n",
              "      <td>2015-11</td>\n",
              "      <td>Thursday</td>\n",
              "      <td>Nov</td>\n",
              "    </tr>\n",
              "    <tr>\n",
              "      <th>2</th>\n",
              "      <td>2014-03-23</td>\n",
              "      <td>23</td>\n",
              "      <td>March</td>\n",
              "      <td>2014</td>\n",
              "      <td>49</td>\n",
              "      <td>Adults (35-64)</td>\n",
              "      <td>M</td>\n",
              "      <td>Australia</td>\n",
              "      <td>New South Wales</td>\n",
              "      <td>Accessories</td>\n",
              "      <td>...</td>\n",
              "      <td>Hitch Rack - 4-Bike</td>\n",
              "      <td>23</td>\n",
              "      <td>45</td>\n",
              "      <td>120</td>\n",
              "      <td>1366</td>\n",
              "      <td>1035</td>\n",
              "      <td>2401</td>\n",
              "      <td>2014-03</td>\n",
              "      <td>Sunday</td>\n",
              "      <td>Mar</td>\n",
              "    </tr>\n",
              "    <tr>\n",
              "      <th>3</th>\n",
              "      <td>2016-03-23</td>\n",
              "      <td>23</td>\n",
              "      <td>March</td>\n",
              "      <td>2016</td>\n",
              "      <td>49</td>\n",
              "      <td>Adults (35-64)</td>\n",
              "      <td>M</td>\n",
              "      <td>Australia</td>\n",
              "      <td>New South Wales</td>\n",
              "      <td>Accessories</td>\n",
              "      <td>...</td>\n",
              "      <td>Hitch Rack - 4-Bike</td>\n",
              "      <td>20</td>\n",
              "      <td>45</td>\n",
              "      <td>120</td>\n",
              "      <td>1188</td>\n",
              "      <td>900</td>\n",
              "      <td>2088</td>\n",
              "      <td>2016-03</td>\n",
              "      <td>Wednesday</td>\n",
              "      <td>Mar</td>\n",
              "    </tr>\n",
              "    <tr>\n",
              "      <th>4</th>\n",
              "      <td>2014-05-15</td>\n",
              "      <td>15</td>\n",
              "      <td>May</td>\n",
              "      <td>2014</td>\n",
              "      <td>47</td>\n",
              "      <td>Adults (35-64)</td>\n",
              "      <td>F</td>\n",
              "      <td>Australia</td>\n",
              "      <td>New South Wales</td>\n",
              "      <td>Accessories</td>\n",
              "      <td>...</td>\n",
              "      <td>Hitch Rack - 4-Bike</td>\n",
              "      <td>4</td>\n",
              "      <td>45</td>\n",
              "      <td>120</td>\n",
              "      <td>238</td>\n",
              "      <td>180</td>\n",
              "      <td>418</td>\n",
              "      <td>2014-05</td>\n",
              "      <td>Thursday</td>\n",
              "      <td>May</td>\n",
              "    </tr>\n",
              "  </tbody>\n",
              "</table>\n",
              "<p>5 rows × 21 columns</p>\n",
              "</div>\n",
              "      <button class=\"colab-df-convert\" onclick=\"convertToInteractive('df-ed5375f3-58e3-43f0-9ab2-ecd2930aa4b9')\"\n",
              "              title=\"Convert this dataframe to an interactive table.\"\n",
              "              style=\"display:none;\">\n",
              "        \n",
              "  <svg xmlns=\"http://www.w3.org/2000/svg\" height=\"24px\"viewBox=\"0 0 24 24\"\n",
              "       width=\"24px\">\n",
              "    <path d=\"M0 0h24v24H0V0z\" fill=\"none\"/>\n",
              "    <path d=\"M18.56 5.44l.94 2.06.94-2.06 2.06-.94-2.06-.94-.94-2.06-.94 2.06-2.06.94zm-11 1L8.5 8.5l.94-2.06 2.06-.94-2.06-.94L8.5 2.5l-.94 2.06-2.06.94zm10 10l.94 2.06.94-2.06 2.06-.94-2.06-.94-.94-2.06-.94 2.06-2.06.94z\"/><path d=\"M17.41 7.96l-1.37-1.37c-.4-.4-.92-.59-1.43-.59-.52 0-1.04.2-1.43.59L10.3 9.45l-7.72 7.72c-.78.78-.78 2.05 0 2.83L4 21.41c.39.39.9.59 1.41.59.51 0 1.02-.2 1.41-.59l7.78-7.78 2.81-2.81c.8-.78.8-2.07 0-2.86zM5.41 20L4 18.59l7.72-7.72 1.47 1.35L5.41 20z\"/>\n",
              "  </svg>\n",
              "      </button>\n",
              "      \n",
              "  <style>\n",
              "    .colab-df-container {\n",
              "      display:flex;\n",
              "      flex-wrap:wrap;\n",
              "      gap: 12px;\n",
              "    }\n",
              "\n",
              "    .colab-df-convert {\n",
              "      background-color: #E8F0FE;\n",
              "      border: none;\n",
              "      border-radius: 50%;\n",
              "      cursor: pointer;\n",
              "      display: none;\n",
              "      fill: #1967D2;\n",
              "      height: 32px;\n",
              "      padding: 0 0 0 0;\n",
              "      width: 32px;\n",
              "    }\n",
              "\n",
              "    .colab-df-convert:hover {\n",
              "      background-color: #E2EBFA;\n",
              "      box-shadow: 0px 1px 2px rgba(60, 64, 67, 0.3), 0px 1px 3px 1px rgba(60, 64, 67, 0.15);\n",
              "      fill: #174EA6;\n",
              "    }\n",
              "\n",
              "    [theme=dark] .colab-df-convert {\n",
              "      background-color: #3B4455;\n",
              "      fill: #D2E3FC;\n",
              "    }\n",
              "\n",
              "    [theme=dark] .colab-df-convert:hover {\n",
              "      background-color: #434B5C;\n",
              "      box-shadow: 0px 1px 3px 1px rgba(0, 0, 0, 0.15);\n",
              "      filter: drop-shadow(0px 1px 2px rgba(0, 0, 0, 0.3));\n",
              "      fill: #FFFFFF;\n",
              "    }\n",
              "  </style>\n",
              "\n",
              "      <script>\n",
              "        const buttonEl =\n",
              "          document.querySelector('#df-ed5375f3-58e3-43f0-9ab2-ecd2930aa4b9 button.colab-df-convert');\n",
              "        buttonEl.style.display =\n",
              "          google.colab.kernel.accessAllowed ? 'block' : 'none';\n",
              "\n",
              "        async function convertToInteractive(key) {\n",
              "          const element = document.querySelector('#df-ed5375f3-58e3-43f0-9ab2-ecd2930aa4b9');\n",
              "          const dataTable =\n",
              "            await google.colab.kernel.invokeFunction('convertToInteractive',\n",
              "                                                     [key], {});\n",
              "          if (!dataTable) return;\n",
              "\n",
              "          const docLinkHtml = 'Like what you see? Visit the ' +\n",
              "            '<a target=\"_blank\" href=https://colab.research.google.com/notebooks/data_table.ipynb>data table notebook</a>'\n",
              "            + ' to learn more about interactive tables.';\n",
              "          element.innerHTML = '';\n",
              "          dataTable['output_type'] = 'display_data';\n",
              "          await google.colab.output.renderOutput(dataTable, element);\n",
              "          const docLink = document.createElement('div');\n",
              "          docLink.innerHTML = docLinkHtml;\n",
              "          element.appendChild(docLink);\n",
              "        }\n",
              "      </script>\n",
              "    </div>\n",
              "  </div>\n",
              "  "
            ]
          },
          "metadata": {},
          "execution_count": 10
        }
      ]
    },
    {
      "cell_type": "markdown",
      "source": [
        "**Exploratory Analysis**\n",
        "\n",
        "Exploratory data analysis is a way to better understand our data which helps in further Data preprocessing. And data visualization is a key, making the exploratory data analysis process streamline and easily analyzing data using plots and charts. First, describe numerical columns in descriptive stastic."
      ],
      "metadata": {
        "id": "b0J1Y-v8vVxn"
      }
    },
    {
      "cell_type": "code",
      "source": [
        "df[['Year','Customer_Age', 'Order_Quantity', 'Unit_Cost', 'Unit_Price', 'Profit', 'Cost', 'Revenue']].describe()"
      ],
      "metadata": {
        "colab": {
          "base_uri": "https://localhost:8080/",
          "height": 364
        },
        "id": "9qT2NeEfvaLX",
        "outputId": "65afb180-75dc-4428-c792-6614844055bc"
      },
      "execution_count": 11,
      "outputs": [
        {
          "output_type": "execute_result",
          "data": {
            "text/plain": [
              "                Year   Customer_Age  Order_Quantity      Unit_Cost  \\\n",
              "count  112036.000000  112036.000000   112036.000000  112036.000000   \n",
              "mean     2014.400925      35.919508       11.904254     267.819603   \n",
              "std         1.273327      11.016543        9.564877     550.218722   \n",
              "min      2011.000000      17.000000        1.000000       1.000000   \n",
              "25%      2013.000000      28.000000        2.000000       2.000000   \n",
              "50%      2014.000000      35.000000       10.000000       9.000000   \n",
              "75%      2016.000000      43.000000       20.000000      42.000000   \n",
              "max      2016.000000      87.000000       32.000000    2171.000000   \n",
              "\n",
              "          Unit_Price         Profit           Cost        Revenue  \n",
              "count  112036.000000  112036.000000  112036.000000  112036.000000  \n",
              "mean      453.850628     286.035194     471.103333     757.138527  \n",
              "std       922.751848     454.852634     886.971635    1312.061623  \n",
              "min         2.000000     -30.000000       1.000000       2.000000  \n",
              "25%         5.000000      29.000000      28.000000      64.000000  \n",
              "50%        25.000000     103.000000     112.000000     226.000000  \n",
              "75%        70.000000     360.000000     442.000000     806.000000  \n",
              "max      3578.000000   15096.000000   42978.000000   58074.000000  "
            ],
            "text/html": [
              "\n",
              "  <div id=\"df-da095458-108e-4657-868b-8e3895cf1eed\">\n",
              "    <div class=\"colab-df-container\">\n",
              "      <div>\n",
              "<style scoped>\n",
              "    .dataframe tbody tr th:only-of-type {\n",
              "        vertical-align: middle;\n",
              "    }\n",
              "\n",
              "    .dataframe tbody tr th {\n",
              "        vertical-align: top;\n",
              "    }\n",
              "\n",
              "    .dataframe thead th {\n",
              "        text-align: right;\n",
              "    }\n",
              "</style>\n",
              "<table border=\"1\" class=\"dataframe\">\n",
              "  <thead>\n",
              "    <tr style=\"text-align: right;\">\n",
              "      <th></th>\n",
              "      <th>Year</th>\n",
              "      <th>Customer_Age</th>\n",
              "      <th>Order_Quantity</th>\n",
              "      <th>Unit_Cost</th>\n",
              "      <th>Unit_Price</th>\n",
              "      <th>Profit</th>\n",
              "      <th>Cost</th>\n",
              "      <th>Revenue</th>\n",
              "    </tr>\n",
              "  </thead>\n",
              "  <tbody>\n",
              "    <tr>\n",
              "      <th>count</th>\n",
              "      <td>112036.000000</td>\n",
              "      <td>112036.000000</td>\n",
              "      <td>112036.000000</td>\n",
              "      <td>112036.000000</td>\n",
              "      <td>112036.000000</td>\n",
              "      <td>112036.000000</td>\n",
              "      <td>112036.000000</td>\n",
              "      <td>112036.000000</td>\n",
              "    </tr>\n",
              "    <tr>\n",
              "      <th>mean</th>\n",
              "      <td>2014.400925</td>\n",
              "      <td>35.919508</td>\n",
              "      <td>11.904254</td>\n",
              "      <td>267.819603</td>\n",
              "      <td>453.850628</td>\n",
              "      <td>286.035194</td>\n",
              "      <td>471.103333</td>\n",
              "      <td>757.138527</td>\n",
              "    </tr>\n",
              "    <tr>\n",
              "      <th>std</th>\n",
              "      <td>1.273327</td>\n",
              "      <td>11.016543</td>\n",
              "      <td>9.564877</td>\n",
              "      <td>550.218722</td>\n",
              "      <td>922.751848</td>\n",
              "      <td>454.852634</td>\n",
              "      <td>886.971635</td>\n",
              "      <td>1312.061623</td>\n",
              "    </tr>\n",
              "    <tr>\n",
              "      <th>min</th>\n",
              "      <td>2011.000000</td>\n",
              "      <td>17.000000</td>\n",
              "      <td>1.000000</td>\n",
              "      <td>1.000000</td>\n",
              "      <td>2.000000</td>\n",
              "      <td>-30.000000</td>\n",
              "      <td>1.000000</td>\n",
              "      <td>2.000000</td>\n",
              "    </tr>\n",
              "    <tr>\n",
              "      <th>25%</th>\n",
              "      <td>2013.000000</td>\n",
              "      <td>28.000000</td>\n",
              "      <td>2.000000</td>\n",
              "      <td>2.000000</td>\n",
              "      <td>5.000000</td>\n",
              "      <td>29.000000</td>\n",
              "      <td>28.000000</td>\n",
              "      <td>64.000000</td>\n",
              "    </tr>\n",
              "    <tr>\n",
              "      <th>50%</th>\n",
              "      <td>2014.000000</td>\n",
              "      <td>35.000000</td>\n",
              "      <td>10.000000</td>\n",
              "      <td>9.000000</td>\n",
              "      <td>25.000000</td>\n",
              "      <td>103.000000</td>\n",
              "      <td>112.000000</td>\n",
              "      <td>226.000000</td>\n",
              "    </tr>\n",
              "    <tr>\n",
              "      <th>75%</th>\n",
              "      <td>2016.000000</td>\n",
              "      <td>43.000000</td>\n",
              "      <td>20.000000</td>\n",
              "      <td>42.000000</td>\n",
              "      <td>70.000000</td>\n",
              "      <td>360.000000</td>\n",
              "      <td>442.000000</td>\n",
              "      <td>806.000000</td>\n",
              "    </tr>\n",
              "    <tr>\n",
              "      <th>max</th>\n",
              "      <td>2016.000000</td>\n",
              "      <td>87.000000</td>\n",
              "      <td>32.000000</td>\n",
              "      <td>2171.000000</td>\n",
              "      <td>3578.000000</td>\n",
              "      <td>15096.000000</td>\n",
              "      <td>42978.000000</td>\n",
              "      <td>58074.000000</td>\n",
              "    </tr>\n",
              "  </tbody>\n",
              "</table>\n",
              "</div>\n",
              "      <button class=\"colab-df-convert\" onclick=\"convertToInteractive('df-da095458-108e-4657-868b-8e3895cf1eed')\"\n",
              "              title=\"Convert this dataframe to an interactive table.\"\n",
              "              style=\"display:none;\">\n",
              "        \n",
              "  <svg xmlns=\"http://www.w3.org/2000/svg\" height=\"24px\"viewBox=\"0 0 24 24\"\n",
              "       width=\"24px\">\n",
              "    <path d=\"M0 0h24v24H0V0z\" fill=\"none\"/>\n",
              "    <path d=\"M18.56 5.44l.94 2.06.94-2.06 2.06-.94-2.06-.94-.94-2.06-.94 2.06-2.06.94zm-11 1L8.5 8.5l.94-2.06 2.06-.94-2.06-.94L8.5 2.5l-.94 2.06-2.06.94zm10 10l.94 2.06.94-2.06 2.06-.94-2.06-.94-.94-2.06-.94 2.06-2.06.94z\"/><path d=\"M17.41 7.96l-1.37-1.37c-.4-.4-.92-.59-1.43-.59-.52 0-1.04.2-1.43.59L10.3 9.45l-7.72 7.72c-.78.78-.78 2.05 0 2.83L4 21.41c.39.39.9.59 1.41.59.51 0 1.02-.2 1.41-.59l7.78-7.78 2.81-2.81c.8-.78.8-2.07 0-2.86zM5.41 20L4 18.59l7.72-7.72 1.47 1.35L5.41 20z\"/>\n",
              "  </svg>\n",
              "      </button>\n",
              "      \n",
              "  <style>\n",
              "    .colab-df-container {\n",
              "      display:flex;\n",
              "      flex-wrap:wrap;\n",
              "      gap: 12px;\n",
              "    }\n",
              "\n",
              "    .colab-df-convert {\n",
              "      background-color: #E8F0FE;\n",
              "      border: none;\n",
              "      border-radius: 50%;\n",
              "      cursor: pointer;\n",
              "      display: none;\n",
              "      fill: #1967D2;\n",
              "      height: 32px;\n",
              "      padding: 0 0 0 0;\n",
              "      width: 32px;\n",
              "    }\n",
              "\n",
              "    .colab-df-convert:hover {\n",
              "      background-color: #E2EBFA;\n",
              "      box-shadow: 0px 1px 2px rgba(60, 64, 67, 0.3), 0px 1px 3px 1px rgba(60, 64, 67, 0.15);\n",
              "      fill: #174EA6;\n",
              "    }\n",
              "\n",
              "    [theme=dark] .colab-df-convert {\n",
              "      background-color: #3B4455;\n",
              "      fill: #D2E3FC;\n",
              "    }\n",
              "\n",
              "    [theme=dark] .colab-df-convert:hover {\n",
              "      background-color: #434B5C;\n",
              "      box-shadow: 0px 1px 3px 1px rgba(0, 0, 0, 0.15);\n",
              "      filter: drop-shadow(0px 1px 2px rgba(0, 0, 0, 0.3));\n",
              "      fill: #FFFFFF;\n",
              "    }\n",
              "  </style>\n",
              "\n",
              "      <script>\n",
              "        const buttonEl =\n",
              "          document.querySelector('#df-da095458-108e-4657-868b-8e3895cf1eed button.colab-df-convert');\n",
              "        buttonEl.style.display =\n",
              "          google.colab.kernel.accessAllowed ? 'block' : 'none';\n",
              "\n",
              "        async function convertToInteractive(key) {\n",
              "          const element = document.querySelector('#df-da095458-108e-4657-868b-8e3895cf1eed');\n",
              "          const dataTable =\n",
              "            await google.colab.kernel.invokeFunction('convertToInteractive',\n",
              "                                                     [key], {});\n",
              "          if (!dataTable) return;\n",
              "\n",
              "          const docLinkHtml = 'Like what you see? Visit the ' +\n",
              "            '<a target=\"_blank\" href=https://colab.research.google.com/notebooks/data_table.ipynb>data table notebook</a>'\n",
              "            + ' to learn more about interactive tables.';\n",
              "          element.innerHTML = '';\n",
              "          dataTable['output_type'] = 'display_data';\n",
              "          await google.colab.output.renderOutput(dataTable, element);\n",
              "          const docLink = document.createElement('div');\n",
              "          docLink.innerHTML = docLinkHtml;\n",
              "          element.appendChild(docLink);\n",
              "        }\n",
              "      </script>\n",
              "    </div>\n",
              "  </div>\n",
              "  "
            ]
          },
          "metadata": {},
          "execution_count": 11
        }
      ]
    },
    {
      "cell_type": "markdown",
      "source": [
        "# **Sales Analysis**\n",
        "**Sales Based On Country**"
      ],
      "metadata": {
        "id": "Y0v70N97vc4A"
      }
    },
    {
      "cell_type": "code",
      "source": [
        "Country_Sales = df.groupby(['Country']).agg({'Revenue':'sum', 'Order_Quantity':'sum'}).sort_values('Revenue', ascending=False)\n",
        "Country_Sales"
      ],
      "metadata": {
        "colab": {
          "base_uri": "https://localhost:8080/",
          "height": 269
        },
        "id": "fUpUR1DXvinO",
        "outputId": "013aa77e-21e2-4951-9383-7bfc92042298"
      },
      "execution_count": 12,
      "outputs": [
        {
          "output_type": "execute_result",
          "data": {
            "text/plain": [
              "                 Revenue  Order_Quantity\n",
              "Country                                 \n",
              "United States   27777098          473880\n",
              "Australia       21196395          261227\n",
              "United Kingdom  10575628          155769\n",
              "Germany          8956724          124755\n",
              "France           8414745          127872\n",
              "Canada           7906182          190202"
            ],
            "text/html": [
              "\n",
              "  <div id=\"df-09530e7e-9b5c-49a0-a1d9-b7419e1839c2\">\n",
              "    <div class=\"colab-df-container\">\n",
              "      <div>\n",
              "<style scoped>\n",
              "    .dataframe tbody tr th:only-of-type {\n",
              "        vertical-align: middle;\n",
              "    }\n",
              "\n",
              "    .dataframe tbody tr th {\n",
              "        vertical-align: top;\n",
              "    }\n",
              "\n",
              "    .dataframe thead th {\n",
              "        text-align: right;\n",
              "    }\n",
              "</style>\n",
              "<table border=\"1\" class=\"dataframe\">\n",
              "  <thead>\n",
              "    <tr style=\"text-align: right;\">\n",
              "      <th></th>\n",
              "      <th>Revenue</th>\n",
              "      <th>Order_Quantity</th>\n",
              "    </tr>\n",
              "    <tr>\n",
              "      <th>Country</th>\n",
              "      <th></th>\n",
              "      <th></th>\n",
              "    </tr>\n",
              "  </thead>\n",
              "  <tbody>\n",
              "    <tr>\n",
              "      <th>United States</th>\n",
              "      <td>27777098</td>\n",
              "      <td>473880</td>\n",
              "    </tr>\n",
              "    <tr>\n",
              "      <th>Australia</th>\n",
              "      <td>21196395</td>\n",
              "      <td>261227</td>\n",
              "    </tr>\n",
              "    <tr>\n",
              "      <th>United Kingdom</th>\n",
              "      <td>10575628</td>\n",
              "      <td>155769</td>\n",
              "    </tr>\n",
              "    <tr>\n",
              "      <th>Germany</th>\n",
              "      <td>8956724</td>\n",
              "      <td>124755</td>\n",
              "    </tr>\n",
              "    <tr>\n",
              "      <th>France</th>\n",
              "      <td>8414745</td>\n",
              "      <td>127872</td>\n",
              "    </tr>\n",
              "    <tr>\n",
              "      <th>Canada</th>\n",
              "      <td>7906182</td>\n",
              "      <td>190202</td>\n",
              "    </tr>\n",
              "  </tbody>\n",
              "</table>\n",
              "</div>\n",
              "      <button class=\"colab-df-convert\" onclick=\"convertToInteractive('df-09530e7e-9b5c-49a0-a1d9-b7419e1839c2')\"\n",
              "              title=\"Convert this dataframe to an interactive table.\"\n",
              "              style=\"display:none;\">\n",
              "        \n",
              "  <svg xmlns=\"http://www.w3.org/2000/svg\" height=\"24px\"viewBox=\"0 0 24 24\"\n",
              "       width=\"24px\">\n",
              "    <path d=\"M0 0h24v24H0V0z\" fill=\"none\"/>\n",
              "    <path d=\"M18.56 5.44l.94 2.06.94-2.06 2.06-.94-2.06-.94-.94-2.06-.94 2.06-2.06.94zm-11 1L8.5 8.5l.94-2.06 2.06-.94-2.06-.94L8.5 2.5l-.94 2.06-2.06.94zm10 10l.94 2.06.94-2.06 2.06-.94-2.06-.94-.94-2.06-.94 2.06-2.06.94z\"/><path d=\"M17.41 7.96l-1.37-1.37c-.4-.4-.92-.59-1.43-.59-.52 0-1.04.2-1.43.59L10.3 9.45l-7.72 7.72c-.78.78-.78 2.05 0 2.83L4 21.41c.39.39.9.59 1.41.59.51 0 1.02-.2 1.41-.59l7.78-7.78 2.81-2.81c.8-.78.8-2.07 0-2.86zM5.41 20L4 18.59l7.72-7.72 1.47 1.35L5.41 20z\"/>\n",
              "  </svg>\n",
              "      </button>\n",
              "      \n",
              "  <style>\n",
              "    .colab-df-container {\n",
              "      display:flex;\n",
              "      flex-wrap:wrap;\n",
              "      gap: 12px;\n",
              "    }\n",
              "\n",
              "    .colab-df-convert {\n",
              "      background-color: #E8F0FE;\n",
              "      border: none;\n",
              "      border-radius: 50%;\n",
              "      cursor: pointer;\n",
              "      display: none;\n",
              "      fill: #1967D2;\n",
              "      height: 32px;\n",
              "      padding: 0 0 0 0;\n",
              "      width: 32px;\n",
              "    }\n",
              "\n",
              "    .colab-df-convert:hover {\n",
              "      background-color: #E2EBFA;\n",
              "      box-shadow: 0px 1px 2px rgba(60, 64, 67, 0.3), 0px 1px 3px 1px rgba(60, 64, 67, 0.15);\n",
              "      fill: #174EA6;\n",
              "    }\n",
              "\n",
              "    [theme=dark] .colab-df-convert {\n",
              "      background-color: #3B4455;\n",
              "      fill: #D2E3FC;\n",
              "    }\n",
              "\n",
              "    [theme=dark] .colab-df-convert:hover {\n",
              "      background-color: #434B5C;\n",
              "      box-shadow: 0px 1px 3px 1px rgba(0, 0, 0, 0.15);\n",
              "      filter: drop-shadow(0px 1px 2px rgba(0, 0, 0, 0.3));\n",
              "      fill: #FFFFFF;\n",
              "    }\n",
              "  </style>\n",
              "\n",
              "      <script>\n",
              "        const buttonEl =\n",
              "          document.querySelector('#df-09530e7e-9b5c-49a0-a1d9-b7419e1839c2 button.colab-df-convert');\n",
              "        buttonEl.style.display =\n",
              "          google.colab.kernel.accessAllowed ? 'block' : 'none';\n",
              "\n",
              "        async function convertToInteractive(key) {\n",
              "          const element = document.querySelector('#df-09530e7e-9b5c-49a0-a1d9-b7419e1839c2');\n",
              "          const dataTable =\n",
              "            await google.colab.kernel.invokeFunction('convertToInteractive',\n",
              "                                                     [key], {});\n",
              "          if (!dataTable) return;\n",
              "\n",
              "          const docLinkHtml = 'Like what you see? Visit the ' +\n",
              "            '<a target=\"_blank\" href=https://colab.research.google.com/notebooks/data_table.ipynb>data table notebook</a>'\n",
              "            + ' to learn more about interactive tables.';\n",
              "          element.innerHTML = '';\n",
              "          dataTable['output_type'] = 'display_data';\n",
              "          await google.colab.output.renderOutput(dataTable, element);\n",
              "          const docLink = document.createElement('div');\n",
              "          docLink.innerHTML = docLinkHtml;\n",
              "          element.appendChild(docLink);\n",
              "        }\n",
              "      </script>\n",
              "    </div>\n",
              "  </div>\n",
              "  "
            ]
          },
          "metadata": {},
          "execution_count": 12
        }
      ]
    },
    {
      "cell_type": "code",
      "source": [
        "f, (ax1, ax2) = plt.subplots(1, 2, figsize=(10,4), constrained_layout=True)\n",
        "\n",
        "def autopct(pct):\n",
        "    return ('%1.2f%%' % pct) if pct > 5 else ''\n",
        "\n",
        "p,t,a = ax1.pie(Country_Sales.Revenue, autopct=autopct)\n",
        "p,t,a = ax2.pie(Country_Sales.Order_Quantity, autopct=autopct)\n",
        "ax1.axis('equal')\n",
        "ax2.axis('equal')\n",
        "# normalize dataframe (not actually needed here, but for general case)\n",
        "normsizes = Country_Sales.Revenue/Country_Sales.Revenue.sum()*100\n",
        "normsizes2 = Country_Sales.Order_Quantity/Country_Sales.Order_Quantity.sum()*100\n",
        "# create handles and labels for legend, take only those where value is > 1\n",
        "h,l = zip(*[(h,lab) for h,lab,i in zip(p,Country_Sales.index.values,normsizes.values) if i > 5])\n",
        "h,j = zip(*[(h,lab) for h,lab,i in zip(p,Country_Sales.index.values,normsizes2.values) if i > 5])\n",
        "\n",
        "ax1.set_title('Sales')\n",
        "ax2.set_title('Quantity')\n",
        "\n",
        "ax1.legend(h, l,loc=\"best\", bbox_to_anchor=(1.5,1), fontsize=8)\n",
        "ax2.legend(h, j,loc=\"best\", bbox_to_anchor=(1.5,1), fontsize=8)\n",
        "plt.subplots_adjust(wspace = 0.5)\n",
        "\n",
        "plt.show()\n"
      ],
      "metadata": {
        "colab": {
          "base_uri": "https://localhost:8080/",
          "height": 264
        },
        "id": "7whfwiUFvmVw",
        "outputId": "a377b367-6452-4150-b29e-746a3c17df45"
      },
      "execution_count": 13,
      "outputs": [
        {
          "output_type": "display_data",
          "data": {
            "text/plain": [
              "<Figure size 720x288 with 2 Axes>"
            ],
            "image/png": "[encoded data removed]"
          },
          "metadata": {}
        }
      ]
    },
    {
      "cell_type": "markdown",
      "source": [
        "From the previous charts, we know. There are Top 3 Countries by Total Sales from 2011-2016, They are US, Australia and UK. But from the perspective of Total Quantities, the 3rd of Top 3 is Canada, while the top 2 remains held by the US and Australia and the UK dropped to the fourth. Now let's explore, where is the best foreign transaction for online retail."
      ],
      "metadata": {
        "id": "9TRyzmqNv_F8"
      }
    },
    {
      "cell_type": "markdown",
      "source": [
        "**Sales Growth**\n",
        "\n",
        "Next, let's explore the growth of sales for the 6 years."
      ],
      "metadata": {
        "id": "AQjkuYWNwA1D"
      }
    },
    {
      "cell_type": "code",
      "source": [
        "Sales_Gr = pd.DataFrame(df.groupby(['month_year']).agg({'Revenue':'sum'})).reset_index()\n",
        "Sales_Gr.plot(x='month_year', figsize=(10,4));"
      ],
      "metadata": {
        "colab": {
          "base_uri": "https://localhost:8080/",
          "height": 291
        },
        "id": "7o3rFrBBwIoO",
        "outputId": "affbd95e-efb8-468c-a8e7-4a11ad843d35"
      },
      "execution_count": 14,
      "outputs": [
        {
          "output_type": "display_data",
          "data": {
            "text/plain": [
              "<Figure size 720x288 with 1 Axes>"
            ],
            "image/png": "[encoded data removed]"
          },
          "metadata": {
            "needs_background": "light"
          }
        }
      ]
    },
    {
      "cell_type": "code",
      "source": [
        "Sales_Gr_Country2 = df.groupby(['Country', 'month_year']).agg({'Revenue':'sum'}).reset_index().astype({'Revenue':'float'})\n",
        "Sales_Gr_Country2['month_year'] = Sales_Gr_Country2['month_year'].astype(str)\n",
        "Sales_Gr_Country2['month_year'] = pd.to_datetime(Sales_Gr_Country2['month_year'])\n",
        "sns.relplot(x=\"month_year\", y=\"Revenue\", hue=\"Country\", col='Country', col_wrap=3, kind='line', data=Sales_Gr_Country2);"
      ],
      "metadata": {
        "colab": {
          "base_uri": "https://localhost:8080/",
          "height": 582
        },
        "id": "yVh79ryzwMj-",
        "outputId": "b888f74b-0682-4aae-89cc-9994da817597"
      },
      "execution_count": null,
      "outputs": [
        {
          "output_type": "display_data",
          "data": {
            "text/plain": [
              "<Figure size 1196.25x720 with 6 Axes>"
            ],
            "image/png": "[encoded data removed]"
          },
          "metadata": {
            "needs_background": "light"
          }
        }
      ]
    },
    {
      "cell_type": "markdown",
      "source": [
        "Mid of 2013 to Mid of 2014 and Mid of 2015 to Mid 2016 are the highest growth of the sales. All of the countries recorded the peakest sales during these periods. But the largest transactions during these periods are from the US."
      ],
      "metadata": {
        "id": "YuFFFT9qwRKg"
      }
    },
    {
      "cell_type": "markdown",
      "source": [
        "**Sales by Category**"
      ],
      "metadata": {
        "id": "k_GgQjGawTAh"
      }
    },
    {
      "cell_type": "code",
      "source": [
        "Sales_Category = df.groupby(['Product_Category', 'Year']).agg({'Revenue':'sum', 'Order_Quantity':'sum', 'Profit':'sum'}).reset_index()\n",
        "Sales_Category['Year']= Sales_Category['Year'].astype('category')\n",
        "Sales_Category"
      ],
      "metadata": {
        "colab": {
          "base_uri": "https://localhost:8080/",
          "height": 488
        },
        "id": "Q76jIdISwT2f",
        "outputId": "0d39de9e-27f6-4404-e719-8fcb238b9edf"
      },
      "execution_count": null,
      "outputs": [
        {
          "output_type": "execute_result",
          "data": {
            "text/plain": [
              "   Product_Category  Year     Revenue  Order_Quantity     Profit\n",
              "0       Accessories  2013   2737158.0        153035.0  1608924.0\n",
              "1       Accessories  2014   3418430.0        200354.0  2007103.0\n",
              "2       Accessories  2015   2661747.0        149086.0  1564654.0\n",
              "3       Accessories  2016   3307725.0        194464.0  1942363.0\n",
              "4             Bikes  2011   8951966.0          5254.0  2877185.0\n",
              "5             Bikes  2012   9133795.0          5328.0  2938519.0\n",
              "6             Bikes  2013   8476722.0          4830.0  2860428.0\n",
              "7             Bikes  2014   5926453.0          3535.0  2057098.0\n",
              "8             Bikes  2015  12809924.0          7294.0  4323990.0\n",
              "9             Bikes  2016   8872642.0          5332.0  3073212.0\n",
              "10         Clothing  2013   1745284.0         54499.0   553664.0\n",
              "11         Clothing  2014   2018992.0         67375.0   623507.0\n",
              "12         Clothing  2015   1691197.0         52817.0   536313.0\n",
              "13         Clothing  2016   1964986.0         65496.0   607044.0"
            ],
            "text/html": [
              "\n",
              "  <div id=\"df-f8dd6c0d-43a3-4b8d-98d1-5dfb871c4eef\">\n",
              "    <div class=\"colab-df-container\">\n",
              "      <div>\n",
              "<style scoped>\n",
              "    .dataframe tbody tr th:only-of-type {\n",
              "        vertical-align: middle;\n",
              "    }\n",
              "\n",
              "    .dataframe tbody tr th {\n",
              "        vertical-align: top;\n",
              "    }\n",
              "\n",
              "    .dataframe thead th {\n",
              "        text-align: right;\n",
              "    }\n",
              "</style>\n",
              "<table border=\"1\" class=\"dataframe\">\n",
              "  <thead>\n",
              "    <tr style=\"text-align: right;\">\n",
              "      <th></th>\n",
              "      <th>Product_Category</th>\n",
              "      <th>Year</th>\n",
              "      <th>Revenue</th>\n",
              "      <th>Order_Quantity</th>\n",
              "      <th>Profit</th>\n",
              "    </tr>\n",
              "  </thead>\n",
              "  <tbody>\n",
              "    <tr>\n",
              "      <th>0</th>\n",
              "      <td>Accessories</td>\n",
              "      <td>2013</td>\n",
              "      <td>2737158.0</td>\n",
              "      <td>153035.0</td>\n",
              "      <td>1608924.0</td>\n",
              "    </tr>\n",
              "    <tr>\n",
              "      <th>1</th>\n",
              "      <td>Accessories</td>\n",
              "      <td>2014</td>\n",
              "      <td>3418430.0</td>\n",
              "      <td>200354.0</td>\n",
              "      <td>2007103.0</td>\n",
              "    </tr>\n",
              "    <tr>\n",
              "      <th>2</th>\n",
              "      <td>Accessories</td>\n",
              "      <td>2015</td>\n",
              "      <td>2661747.0</td>\n",
              "      <td>149086.0</td>\n",
              "      <td>1564654.0</td>\n",
              "    </tr>\n",
              "    <tr>\n",
              "      <th>3</th>\n",
              "      <td>Accessories</td>\n",
              "      <td>2016</td>\n",
              "      <td>3307725.0</td>\n",
              "      <td>194464.0</td>\n",
              "      <td>1942363.0</td>\n",
              "    </tr>\n",
              "    <tr>\n",
              "      <th>4</th>\n",
              "      <td>Bikes</td>\n",
              "      <td>2011</td>\n",
              "      <td>8951966.0</td>\n",
              "      <td>5254.0</td>\n",
              "      <td>2877185.0</td>\n",
              "    </tr>\n",
              "    <tr>\n",
              "      <th>5</th>\n",
              "      <td>Bikes</td>\n",
              "      <td>2012</td>\n",
              "      <td>9133795.0</td>\n",
              "      <td>5328.0</td>\n",
              "      <td>2938519.0</td>\n",
              "    </tr>\n",
              "    <tr>\n",
              "      <th>6</th>\n",
              "      <td>Bikes</td>\n",
              "      <td>2013</td>\n",
              "      <td>8476722.0</td>\n",
              "      <td>4830.0</td>\n",
              "      <td>2860428.0</td>\n",
              "    </tr>\n",
              "    <tr>\n",
              "      <th>7</th>\n",
              "      <td>Bikes</td>\n",
              "      <td>2014</td>\n",
              "      <td>5926453.0</td>\n",
              "      <td>3535.0</td>\n",
              "      <td>2057098.0</td>\n",
              "    </tr>\n",
              "    <tr>\n",
              "      <th>8</th>\n",
              "      <td>Bikes</td>\n",
              "      <td>2015</td>\n",
              "      <td>12809924.0</td>\n",
              "      <td>7294.0</td>\n",
              "      <td>4323990.0</td>\n",
              "    </tr>\n",
              "    <tr>\n",
              "      <th>9</th>\n",
              "      <td>Bikes</td>\n",
              "      <td>2016</td>\n",
              "      <td>8872642.0</td>\n",
              "      <td>5332.0</td>\n",
              "      <td>3073212.0</td>\n",
              "    </tr>\n",
              "    <tr>\n",
              "      <th>10</th>\n",
              "      <td>Clothing</td>\n",
              "      <td>2013</td>\n",
              "      <td>1745284.0</td>\n",
              "      <td>54499.0</td>\n",
              "      <td>553664.0</td>\n",
              "    </tr>\n",
              "    <tr>\n",
              "      <th>11</th>\n",
              "      <td>Clothing</td>\n",
              "      <td>2014</td>\n",
              "      <td>2018992.0</td>\n",
              "      <td>67375.0</td>\n",
              "      <td>623507.0</td>\n",
              "    </tr>\n",
              "    <tr>\n",
              "      <th>12</th>\n",
              "      <td>Clothing</td>\n",
              "      <td>2015</td>\n",
              "      <td>1691197.0</td>\n",
              "      <td>52817.0</td>\n",
              "      <td>536313.0</td>\n",
              "    </tr>\n",
              "    <tr>\n",
              "      <th>13</th>\n",
              "      <td>Clothing</td>\n",
              "      <td>2016</td>\n",
              "      <td>1964986.0</td>\n",
              "      <td>65496.0</td>\n",
              "      <td>607044.0</td>\n",
              "    </tr>\n",
              "  </tbody>\n",
              "</table>\n",
              "</div>\n",
              "      <button class=\"colab-df-convert\" onclick=\"convertToInteractive('df-f8dd6c0d-43a3-4b8d-98d1-5dfb871c4eef')\"\n",
              "              title=\"Convert this dataframe to an interactive table.\"\n",
              "              style=\"display:none;\">\n",
              "        \n",
              "  <svg xmlns=\"http://www.w3.org/2000/svg\" height=\"24px\"viewBox=\"0 0 24 24\"\n",
              "       width=\"24px\">\n",
              "    <path d=\"M0 0h24v24H0V0z\" fill=\"none\"/>\n",
              "    <path d=\"M18.56 5.44l.94 2.06.94-2.06 2.06-.94-2.06-.94-.94-2.06-.94 2.06-2.06.94zm-11 1L8.5 8.5l.94-2.06 2.06-.94-2.06-.94L8.5 2.5l-.94 2.06-2.06.94zm10 10l.94 2.06.94-2.06 2.06-.94-2.06-.94-.94-2.06-.94 2.06-2.06.94z\"/><path d=\"M17.41 7.96l-1.37-1.37c-.4-.4-.92-.59-1.43-.59-.52 0-1.04.2-1.43.59L10.3 9.45l-7.72 7.72c-.78.78-.78 2.05 0 2.83L4 21.41c.39.39.9.59 1.41.59.51 0 1.02-.2 1.41-.59l7.78-7.78 2.81-2.81c.8-.78.8-2.07 0-2.86zM5.41 20L4 18.59l7.72-7.72 1.47 1.35L5.41 20z\"/>\n",
              "  </svg>\n",
              "      </button>\n",
              "      \n",
              "  <style>\n",
              "    .colab-df-container {\n",
              "      display:flex;\n",
              "      flex-wrap:wrap;\n",
              "      gap: 12px;\n",
              "    }\n",
              "\n",
              "    .colab-df-convert {\n",
              "      background-color: #E8F0FE;\n",
              "      border: none;\n",
              "      border-radius: 50%;\n",
              "      cursor: pointer;\n",
              "      display: none;\n",
              "      fill: #1967D2;\n",
              "      height: 32px;\n",
              "      padding: 0 0 0 0;\n",
              "      width: 32px;\n",
              "    }\n",
              "\n",
              "    .colab-df-convert:hover {\n",
              "      background-color: #E2EBFA;\n",
              "      box-shadow: 0px 1px 2px rgba(60, 64, 67, 0.3), 0px 1px 3px 1px rgba(60, 64, 67, 0.15);\n",
              "      fill: #174EA6;\n",
              "    }\n",
              "\n",
              "    [theme=dark] .colab-df-convert {\n",
              "      background-color: #3B4455;\n",
              "      fill: #D2E3FC;\n",
              "    }\n",
              "\n",
              "    [theme=dark] .colab-df-convert:hover {\n",
              "      background-color: #434B5C;\n",
              "      box-shadow: 0px 1px 3px 1px rgba(0, 0, 0, 0.15);\n",
              "      filter: drop-shadow(0px 1px 2px rgba(0, 0, 0, 0.3));\n",
              "      fill: #FFFFFF;\n",
              "    }\n",
              "  </style>\n",
              "\n",
              "      <script>\n",
              "        const buttonEl =\n",
              "          document.querySelector('#df-f8dd6c0d-43a3-4b8d-98d1-5dfb871c4eef button.colab-df-convert');\n",
              "        buttonEl.style.display =\n",
              "          google.colab.kernel.accessAllowed ? 'block' : 'none';\n",
              "\n",
              "        async function convertToInteractive(key) {\n",
              "          const element = document.querySelector('#df-f8dd6c0d-43a3-4b8d-98d1-5dfb871c4eef');\n",
              "          const dataTable =\n",
              "            await google.colab.kernel.invokeFunction('convertToInteractive',\n",
              "                                                     [key], {});\n",
              "          if (!dataTable) return;\n",
              "\n",
              "          const docLinkHtml = 'Like what you see? Visit the ' +\n",
              "            '<a target=\"_blank\" href=https://colab.research.google.com/notebooks/data_table.ipynb>data table notebook</a>'\n",
              "            + ' to learn more about interactive tables.';\n",
              "          element.innerHTML = '';\n",
              "          dataTable['output_type'] = 'display_data';\n",
              "          await google.colab.output.renderOutput(dataTable, element);\n",
              "          const docLink = document.createElement('div');\n",
              "          docLink.innerHTML = docLinkHtml;\n",
              "          element.appendChild(docLink);\n",
              "        }\n",
              "      </script>\n",
              "    </div>\n",
              "  </div>\n",
              "  "
            ]
          },
          "metadata": {},
          "execution_count": 18
        }
      ]
    },
    {
      "cell_type": "code",
      "source": [
        "fig, axes = plt.subplots(1,2,figsize=(15,5))\n",
        "sns.barplot(x=\"Year\", y=\"Revenue\", hue=\"Product_Category\", data=Sales_Category, ax=axes[0])\n",
        "sns.barplot(x=\"Year\", y=\"Order_Quantity\", hue=\"Product_Category\", data=Sales_Category, ax=axes[1])\n",
        "axes[0].legend(bbox_to_anchor=(0.02, 0.98), loc='upper left', borderaxespad=0)\n",
        "axes[1].legend(bbox_to_anchor=(0.02, 0.98), loc='upper left', borderaxespad=0)\n",
        "plt.show()"
      ],
      "metadata": {
        "colab": {
          "base_uri": "https://localhost:8080/",
          "height": 345
        },
        "id": "H5oMUGdnwaNF",
        "outputId": "5eb1309b-773b-4d56-9349-8b959e14323a"
      },
      "execution_count": null,
      "outputs": [
        {
          "output_type": "display_data",
          "data": {
            "text/plain": [
              "<Figure size 1080x360 with 2 Axes>"
            ],
            "image/png": "[encoded data removed]"
          },
          "metadata": {
            "needs_background": "light"
          }
        }
      ]
    },
    {
      "cell_type": "markdown",
      "source": [
        "It's wonderful to know how the dynamic growth of the sales from each category. From above graphs we know, 2015 is the highest peak of Bike Sales and 2016 is the highest sales of Accessories category, although the number of sales almost being equal to its 2014. We also already discover if Acessories and Clothes categories just went on sale at 2013.\n",
        "\n",
        "From the total quantities, we know Acessories category is the largest.\n",
        "\n",
        "Now let's warp it all to know the percentage of each categories from their total during all of periods Both in Sales, Profit and Quantities."
      ],
      "metadata": {
        "id": "PN6_ZArFwcZ1"
      }
    },
    {
      "cell_type": "code",
      "source": [
        "Sales_Category_Revenue = Sales_Category.groupby('Product_Category').agg({'Revenue':'sum','Profit':'sum', 'Order_Quantity':'sum'})\n",
        "Sales_Category_Revenue.plot(kind='pie', wedgeprops=dict(width=.3), subplots=True, figsize=(13,13), autopct='%1.2f%%', legend=False, labels=Sales_Category_Revenue.index)\n",
        "plt.tight_layout()\n",
        "plt.show();"
      ],
      "metadata": {
        "colab": {
          "base_uri": "https://localhost:8080/",
          "height": 291
        },
        "id": "fOWJraFzwc3h",
        "outputId": "82f98000-56c9-49f1-d315-37c48c4904c4"
      },
      "execution_count": null,
      "outputs": [
        {
          "output_type": "display_data",
          "data": {
            "text/plain": [
              "<Figure size 936x936 with 3 Axes>"
            ],
            "image/png": "[encoded data removed]"
          },
          "metadata": {}
        }
      ]
    },
    {
      "cell_type": "code",
      "source": [
        "Sales_Category_Gr = Sales_Category.pivot(index='Year', values='Revenue', columns='Product_Category').fillna(0)\n",
        "Sales_Category_Pct =  Sales_Category_Gr.apply(lambda x: x/sum(x)*100, axis=1).round(2)\n",
        "\n",
        "ax= Sales_Category_Pct.plot(kind='bar', stacked=True, figsize=(10,4))\n",
        "\n",
        "for c in ax.containers:\n",
        "\n",
        "    # Optional: if the segment is small or 0, customize the labels\n",
        "    labels = [v.get_height() if v.get_height() > 0 else '' for v in c]\n",
        "    \n",
        "plt.show()"
      ],
      "metadata": {
        "colab": {
          "base_uri": "https://localhost:8080/",
          "height": 295
        },
        "id": "-37rbAcyzJwC",
        "outputId": "eea9955e-e343-48e9-a83f-f5c237cb7d36"
      },
      "execution_count": null,
      "outputs": [
        {
          "output_type": "display_data",
          "data": {
            "text/plain": [
              "<Figure size 720x288 with 1 Axes>"
            ],
            "image/png": "[encoded data removed]"
          },
          "metadata": {
            "needs_background": "light"
          }
        }
      ]
    },
    {
      "cell_type": "markdown",
      "source": [
        "Although the propotion of Bikes in quantity is the smalest one, but its sales and profit is the highest one since it become the core of business. But when the sales of core business decline just like happened during 2014, Accessories and Clothing could be complementary items to support business. We know accessories and clothing are still growing when the sales of bikes decline in 2014."
      ],
      "metadata": {
        "id": "TLphVjNizNMt"
      }
    },
    {
      "cell_type": "markdown",
      "source": [
        "**Sales by Sub - Category**"
      ],
      "metadata": {
        "id": "aipuVu8WzQWL"
      }
    },
    {
      "cell_type": "code",
      "source": [
        "Sales_Sub_Category = df.groupby(['Product_Category', 'Sub_Category']).agg({'Revenue':'sum', 'Order_Quantity':'sum'}).reset_index().astype({'Sub_Category':'category'})\n",
        "Sales_Sub_Category"
      ],
      "metadata": {
        "colab": {
          "base_uri": "https://localhost:8080/",
          "height": 520
        },
        "id": "OEZLC-uFzNnX",
        "outputId": "a7732870-fe2e-4475-d643-7106b6597f8f"
      },
      "execution_count": null,
      "outputs": [
        {
          "output_type": "execute_result",
          "data": {
            "text/plain": [
              "   Product_Category       Sub_Category     Revenue  Order_Quantity\n",
              "0       Accessories         Bike Racks    517800.0          4741.0\n",
              "1       Accessories        Bike Stands    342830.0          2403.0\n",
              "2       Accessories  Bottles and Cages   1390570.0        238610.0\n",
              "3       Accessories           Cleaners    198821.0         27574.0\n",
              "4       Accessories            Fenders   1245733.0         62138.0\n",
              "5       Accessories            Helmets   5738482.0        181522.0\n",
              "6       Accessories    Hydration Packs    990406.0         19914.0\n",
              "7       Accessories    Tires and Tubes   1700418.0        160037.0\n",
              "8             Bikes     Mountain Bikes  21020794.0         11935.0\n",
              "9             Bikes         Road Bikes  33150708.0         19638.0\n",
              "10         Clothing               Caps    548777.0         67268.0\n",
              "11         Clothing             Gloves    871419.0         39978.0\n",
              "12         Clothing            Jerseys   4112382.0         88095.0\n",
              "13         Clothing             Shorts   1740710.0         27168.0\n",
              "14         Clothing              Socks    147171.0         17678.0"
            ],
            "text/html": [
              "\n",
              "  <div id=\"df-07ed4aba-12d5-4084-bd93-c29aba8cb132\">\n",
              "    <div class=\"colab-df-container\">\n",
              "      <div>\n",
              "<style scoped>\n",
              "    .dataframe tbody tr th:only-of-type {\n",
              "        vertical-align: middle;\n",
              "    }\n",
              "\n",
              "    .dataframe tbody tr th {\n",
              "        vertical-align: top;\n",
              "    }\n",
              "\n",
              "    .dataframe thead th {\n",
              "        text-align: right;\n",
              "    }\n",
              "</style>\n",
              "<table border=\"1\" class=\"dataframe\">\n",
              "  <thead>\n",
              "    <tr style=\"text-align: right;\">\n",
              "      <th></th>\n",
              "      <th>Product_Category</th>\n",
              "      <th>Sub_Category</th>\n",
              "      <th>Revenue</th>\n",
              "      <th>Order_Quantity</th>\n",
              "    </tr>\n",
              "  </thead>\n",
              "  <tbody>\n",
              "    <tr>\n",
              "      <th>0</th>\n",
              "      <td>Accessories</td>\n",
              "      <td>Bike Racks</td>\n",
              "      <td>517800.0</td>\n",
              "      <td>4741.0</td>\n",
              "    </tr>\n",
              "    <tr>\n",
              "      <th>1</th>\n",
              "      <td>Accessories</td>\n",
              "      <td>Bike Stands</td>\n",
              "      <td>342830.0</td>\n",
              "      <td>2403.0</td>\n",
              "    </tr>\n",
              "    <tr>\n",
              "      <th>2</th>\n",
              "      <td>Accessories</td>\n",
              "      <td>Bottles and Cages</td>\n",
              "      <td>1390570.0</td>\n",
              "      <td>238610.0</td>\n",
              "    </tr>\n",
              "    <tr>\n",
              "      <th>3</th>\n",
              "      <td>Accessories</td>\n",
              "      <td>Cleaners</td>\n",
              "      <td>198821.0</td>\n",
              "      <td>27574.0</td>\n",
              "    </tr>\n",
              "    <tr>\n",
              "      <th>4</th>\n",
              "      <td>Accessories</td>\n",
              "      <td>Fenders</td>\n",
              "      <td>1245733.0</td>\n",
              "      <td>62138.0</td>\n",
              "    </tr>\n",
              "    <tr>\n",
              "      <th>5</th>\n",
              "      <td>Accessories</td>\n",
              "      <td>Helmets</td>\n",
              "      <td>5738482.0</td>\n",
              "      <td>181522.0</td>\n",
              "    </tr>\n",
              "    <tr>\n",
              "      <th>6</th>\n",
              "      <td>Accessories</td>\n",
              "      <td>Hydration Packs</td>\n",
              "      <td>990406.0</td>\n",
              "      <td>19914.0</td>\n",
              "    </tr>\n",
              "    <tr>\n",
              "      <th>7</th>\n",
              "      <td>Accessories</td>\n",
              "      <td>Tires and Tubes</td>\n",
              "      <td>1700418.0</td>\n",
              "      <td>160037.0</td>\n",
              "    </tr>\n",
              "    <tr>\n",
              "      <th>8</th>\n",
              "      <td>Bikes</td>\n",
              "      <td>Mountain Bikes</td>\n",
              "      <td>21020794.0</td>\n",
              "      <td>11935.0</td>\n",
              "    </tr>\n",
              "    <tr>\n",
              "      <th>9</th>\n",
              "      <td>Bikes</td>\n",
              "      <td>Road Bikes</td>\n",
              "      <td>33150708.0</td>\n",
              "      <td>19638.0</td>\n",
              "    </tr>\n",
              "    <tr>\n",
              "      <th>10</th>\n",
              "      <td>Clothing</td>\n",
              "      <td>Caps</td>\n",
              "      <td>548777.0</td>\n",
              "      <td>67268.0</td>\n",
              "    </tr>\n",
              "    <tr>\n",
              "      <th>11</th>\n",
              "      <td>Clothing</td>\n",
              "      <td>Gloves</td>\n",
              "      <td>871419.0</td>\n",
              "      <td>39978.0</td>\n",
              "    </tr>\n",
              "    <tr>\n",
              "      <th>12</th>\n",
              "      <td>Clothing</td>\n",
              "      <td>Jerseys</td>\n",
              "      <td>4112382.0</td>\n",
              "      <td>88095.0</td>\n",
              "    </tr>\n",
              "    <tr>\n",
              "      <th>13</th>\n",
              "      <td>Clothing</td>\n",
              "      <td>Shorts</td>\n",
              "      <td>1740710.0</td>\n",
              "      <td>27168.0</td>\n",
              "    </tr>\n",
              "    <tr>\n",
              "      <th>14</th>\n",
              "      <td>Clothing</td>\n",
              "      <td>Socks</td>\n",
              "      <td>147171.0</td>\n",
              "      <td>17678.0</td>\n",
              "    </tr>\n",
              "  </tbody>\n",
              "</table>\n",
              "</div>\n",
              "      <button class=\"colab-df-convert\" onclick=\"convertToInteractive('df-07ed4aba-12d5-4084-bd93-c29aba8cb132')\"\n",
              "              title=\"Convert this dataframe to an interactive table.\"\n",
              "              style=\"display:none;\">\n",
              "        \n",
              "  <svg xmlns=\"http://www.w3.org/2000/svg\" height=\"24px\"viewBox=\"0 0 24 24\"\n",
              "       width=\"24px\">\n",
              "    <path d=\"M0 0h24v24H0V0z\" fill=\"none\"/>\n",
              "    <path d=\"M18.56 5.44l.94 2.06.94-2.06 2.06-.94-2.06-.94-.94-2.06-.94 2.06-2.06.94zm-11 1L8.5 8.5l.94-2.06 2.06-.94-2.06-.94L8.5 2.5l-.94 2.06-2.06.94zm10 10l.94 2.06.94-2.06 2.06-.94-2.06-.94-.94-2.06-.94 2.06-2.06.94z\"/><path d=\"M17.41 7.96l-1.37-1.37c-.4-.4-.92-.59-1.43-.59-.52 0-1.04.2-1.43.59L10.3 9.45l-7.72 7.72c-.78.78-.78 2.05 0 2.83L4 21.41c.39.39.9.59 1.41.59.51 0 1.02-.2 1.41-.59l7.78-7.78 2.81-2.81c.8-.78.8-2.07 0-2.86zM5.41 20L4 18.59l7.72-7.72 1.47 1.35L5.41 20z\"/>\n",
              "  </svg>\n",
              "      </button>\n",
              "      \n",
              "  <style>\n",
              "    .colab-df-container {\n",
              "      display:flex;\n",
              "      flex-wrap:wrap;\n",
              "      gap: 12px;\n",
              "    }\n",
              "\n",
              "    .colab-df-convert {\n",
              "      background-color: #E8F0FE;\n",
              "      border: none;\n",
              "      border-radius: 50%;\n",
              "      cursor: pointer;\n",
              "      display: none;\n",
              "      fill: #1967D2;\n",
              "      height: 32px;\n",
              "      padding: 0 0 0 0;\n",
              "      width: 32px;\n",
              "    }\n",
              "\n",
              "    .colab-df-convert:hover {\n",
              "      background-color: #E2EBFA;\n",
              "      box-shadow: 0px 1px 2px rgba(60, 64, 67, 0.3), 0px 1px 3px 1px rgba(60, 64, 67, 0.15);\n",
              "      fill: #174EA6;\n",
              "    }\n",
              "\n",
              "    [theme=dark] .colab-df-convert {\n",
              "      background-color: #3B4455;\n",
              "      fill: #D2E3FC;\n",
              "    }\n",
              "\n",
              "    [theme=dark] .colab-df-convert:hover {\n",
              "      background-color: #434B5C;\n",
              "      box-shadow: 0px 1px 3px 1px rgba(0, 0, 0, 0.15);\n",
              "      filter: drop-shadow(0px 1px 2px rgba(0, 0, 0, 0.3));\n",
              "      fill: #FFFFFF;\n",
              "    }\n",
              "  </style>\n",
              "\n",
              "      <script>\n",
              "        const buttonEl =\n",
              "          document.querySelector('#df-07ed4aba-12d5-4084-bd93-c29aba8cb132 button.colab-df-convert');\n",
              "        buttonEl.style.display =\n",
              "          google.colab.kernel.accessAllowed ? 'block' : 'none';\n",
              "\n",
              "        async function convertToInteractive(key) {\n",
              "          const element = document.querySelector('#df-07ed4aba-12d5-4084-bd93-c29aba8cb132');\n",
              "          const dataTable =\n",
              "            await google.colab.kernel.invokeFunction('convertToInteractive',\n",
              "                                                     [key], {});\n",
              "          if (!dataTable) return;\n",
              "\n",
              "          const docLinkHtml = 'Like what you see? Visit the ' +\n",
              "            '<a target=\"_blank\" href=https://colab.research.google.com/notebooks/data_table.ipynb>data table notebook</a>'\n",
              "            + ' to learn more about interactive tables.';\n",
              "          element.innerHTML = '';\n",
              "          dataTable['output_type'] = 'display_data';\n",
              "          await google.colab.output.renderOutput(dataTable, element);\n",
              "          const docLink = document.createElement('div');\n",
              "          docLink.innerHTML = docLinkHtml;\n",
              "          element.appendChild(docLink);\n",
              "        }\n",
              "      </script>\n",
              "    </div>\n",
              "  </div>\n",
              "  "
            ]
          },
          "metadata": {},
          "execution_count": 33
        }
      ]
    },
    {
      "cell_type": "code",
      "source": [
        "Category_Acc = Sales_Sub_Category[Sales_Sub_Category['Product_Category']=='Accessories']\n",
        "Category_Bik = Sales_Sub_Category[Sales_Sub_Category['Product_Category']=='Bikes']\n",
        "Category_Clt = Sales_Sub_Category[Sales_Sub_Category['Product_Category']=='Clothing']\n",
        "f, (ax2, ax3, ax4) = plt.subplots(1, 3, figsize=(9,6))\n",
        "\n",
        "def autopct(pct):\n",
        "    return ('%1.2f%%' % pct) if pct > 10 else ''\n",
        "\n",
        "p,t,a = ax2.pie(Category_Bik.Revenue, autopct=autopct)\n",
        "p,t,a = ax3.pie(Category_Clt.Revenue, autopct=autopct)\n",
        "p,t,a = ax4.pie(Category_Acc.Revenue, autopct=autopct)\n",
        "\n",
        "ax2.axis('equal')\n",
        "ax3.axis('equal')\n",
        "ax4.axis('equal')\n",
        "# normalize dataframe (not actually needed here, but for general case)\n",
        "normsizes2 = Category_Bik.Revenue/Category_Bik.Revenue.sum()*100\n",
        "normsizes3 = Category_Clt.Revenue/Category_Clt.Revenue.sum()*100\n",
        "normsizes4 = Category_Acc.Revenue/Category_Acc.Revenue.sum()*100\n",
        "\n",
        "# create handles and labels for legend, take only those where value is > 1\n",
        "\n",
        "h,j = zip(*[(h,lab) for h,lab,i in zip(p,Category_Bik.Sub_Category.values,normsizes2.values) if i > 10])\n",
        "m,k = zip(*[(m,lab) for m,lab,i in zip(p,Category_Clt.Sub_Category.values,normsizes3.values) if i > 10])\n",
        "n,l = zip(*[(n,lab) for n,lab,i in zip(p,Category_Acc.Sub_Category.values,normsizes4.values) if i > 10])\n",
        "ax2.set_title('Bikes')\n",
        "ax3.set_title('Clothes')\n",
        "ax4.set_title('Accessories')\n",
        "ax2.legend(h, j,loc=\"best\", bbox_to_anchor=(1,1))\n",
        "ax3.legend(m, k,loc=\"best\", bbox_to_anchor=(1,1))\n",
        "ax4.legend(n, l,loc=\"best\", bbox_to_anchor=(1,1))\n",
        "plt.show()"
      ],
      "metadata": {
        "id": "1MCwL1F2zZfj",
        "outputId": "84dbe841-124f-4662-a45c-81cb17e37858",
        "colab": {
          "base_uri": "https://localhost:8080/",
          "height": 373
        }
      },
      "execution_count": null,
      "outputs": [
        {
          "output_type": "display_data",
          "data": {
            "text/plain": [
              "<Figure size 648x432 with 3 Axes>"
            ],
            "image/png": "[encoded data removed]"
          },
          "metadata": {}
        }
      ]
    },
    {
      "cell_type": "markdown",
      "source": [
        "Now we discover sub category which generates a lot of sales in each category. From the bikes, people tend to buy more the road bikes. Jersey sub-category is the most choseen by people, and both helmets and Tires and Tubes are the top 2 of acessories category."
      ],
      "metadata": {
        "id": "xCnoh9MpFLUz"
      }
    },
    {
      "cell_type": "markdown",
      "source": [
        "**Top Sales by Products**\n",
        "\n",
        "Let's see deeper to know what are the top product in each category."
      ],
      "metadata": {
        "id": "2nlvGNYgFORv"
      }
    },
    {
      "cell_type": "code",
      "source": [
        "Sales_Product = df.groupby(['Product_Category', 'Product']).agg({'Revenue':'sum', 'Order_Quantity':'sum'}).reset_index()\n",
        "Sales_Product.head(10)"
      ],
      "metadata": {
        "colab": {
          "base_uri": "https://localhost:8080/",
          "height": 200
        },
        "id": "5vrJjtecFL9l",
        "outputId": "588e9513-95e1-42ee-914f-85a68ef9552e"
      },
      "execution_count": 1,
      "outputs": [
        {
          "output_type": "error",
          "ename": "NameError",
          "evalue": "ignored",
          "traceback": [
            "\u001b[0;31m---------------------------------------------------------------------------\u001b[0m",
            "\u001b[0;31mNameError\u001b[0m                                 Traceback (most recent call last)",
            "\u001b[0;32m<ipython-input-1-a12ffd94d9bb>\u001b[0m in \u001b[0;36m<module>\u001b[0;34m()\u001b[0m\n\u001b[0;32m----> 1\u001b[0;31m \u001b[0mSales_Product\u001b[0m \u001b[0;34m=\u001b[0m \u001b[0mdf\u001b[0m\u001b[0;34m.\u001b[0m\u001b[0mgroupby\u001b[0m\u001b[0;34m(\u001b[0m\u001b[0;34m[\u001b[0m\u001b[0;34m'Product_Category'\u001b[0m\u001b[0;34m,\u001b[0m \u001b[0;34m'Product'\u001b[0m\u001b[0;34m]\u001b[0m\u001b[0;34m)\u001b[0m\u001b[0;34m.\u001b[0m\u001b[0magg\u001b[0m\u001b[0;34m(\u001b[0m\u001b[0;34m{\u001b[0m\u001b[0;34m'Revenue'\u001b[0m\u001b[0;34m:\u001b[0m\u001b[0;34m'sum'\u001b[0m\u001b[0;34m,\u001b[0m \u001b[0;34m'Order_Quantity'\u001b[0m\u001b[0;34m:\u001b[0m\u001b[0;34m'sum'\u001b[0m\u001b[0;34m}\u001b[0m\u001b[0;34m)\u001b[0m\u001b[0;34m.\u001b[0m\u001b[0mreset_index\u001b[0m\u001b[0;34m(\u001b[0m\u001b[0;34m)\u001b[0m\u001b[0;34m\u001b[0m\u001b[0;34m\u001b[0m\u001b[0m\n\u001b[0m\u001b[1;32m      2\u001b[0m \u001b[0mSales_Product\u001b[0m\u001b[0;34m.\u001b[0m\u001b[0mhead\u001b[0m\u001b[0;34m(\u001b[0m\u001b[0;36m10\u001b[0m\u001b[0;34m)\u001b[0m\u001b[0;34m\u001b[0m\u001b[0;34m\u001b[0m\u001b[0m\n",
            "\u001b[0;31mNameError\u001b[0m: name 'df' is not defined"
          ]
        }
      ]
    },
    {
      "cell_type": "code",
      "source": [
        "Product_Acc = Sales_Product[Sales_Product['Product_Category']=='Accessories'].sort_values('Revenue', ascending=False)[0:5]\n",
        "Product_Bik = Sales_Product[Sales_Product['Product_Category']=='Bikes'].sort_values('Revenue', ascending=False)[0:5]\n",
        "Product_Clt = Sales_Product[Sales_Product['Product_Category']=='Clothing'].sort_values('Revenue', ascending=False)[0:5]\n",
        "\n",
        "fig, axes = plt.subplots(3,figsize=(8, 10))\n",
        "sns.barplot(x='Revenue', y=Product_Acc.Product, data = Product_Acc,\n",
        "            label=\"Accessories\", ax=axes[0], palette='husl')\n",
        "sns.barplot(x='Revenue', y=Product_Bik.Product, data = Product_Bik,\n",
        "            label=\"Bike\", ax=axes[1], palette='husl')\n",
        "sns.barplot(x='Revenue', y=Product_Clt.Product, data = Product_Clt,\n",
        "            label=\"Clothes\", ax=axes[2], palette='husl')\n",
        "plt.show()"
      ],
      "metadata": {
        "id": "Zwsi_xWdFUyf"
      },
      "execution_count": null,
      "outputs": []
    },
    {
      "cell_type": "code",
      "source": [
        "Quantity_Product = df.groupby(['Product_Category', 'Product']).agg({'Order_Quantity':'sum'}).reset_index()\n",
        "QuantProd_Acc = Quantity_Product[Quantity_Product['Product_Category']=='Accessories'].sort_values('Order_Quantity', ascending=False)[0:5]\n",
        "QuantProd_Bik = Quantity_Product[Quantity_Product['Product_Category']=='Bikes'].sort_values('Order_Quantity', ascending=False)[0:5]\n",
        "QuantProd_Clt = Quantity_Product[Quantity_Product['Product_Category']=='Clothing'].sort_values('Order_Quantity', ascending=False)[0:5]\n",
        "\n",
        "fig, axes = plt.subplots(3,figsize=(8, 10))\n",
        "sns.barplot(x='Order_Quantity', y=QuantProd_Acc.Product, data = QuantProd_Acc,\n",
        "            ax=axes[0], palette='husl').set_title('Accessories')\n",
        "sns.barplot(x='Order_Quantity', y=QuantProd_Bik.Product, data = QuantProd_Bik,\n",
        "            ax=axes[1], palette='husl').set_title('Bike')\n",
        "sns.barplot(x='Order_Quantity', y=QuantProd_Clt.Product, data = QuantProd_Clt,\n",
        "           ax=axes[2], palette='husl').set_title('Clothes')\n",
        "plt.tight_layout()\n",
        "plt.show()"
      ],
      "metadata": {
        "id": "zH6K5IJiFW7T"
      },
      "execution_count": null,
      "outputs": []
    },
    {
      "cell_type": "markdown",
      "source": [
        "**Highest and Lowest Month of Sales**\n",
        "\n",
        "Now time to answer what is the month that people tend to buy more or the month that generated the highest and the lowest sales?"
      ],
      "metadata": {
        "id": "yQBlQ_WQFZCg"
      }
    },
    {
      "cell_type": "code",
      "source": [
        "Monthly_Sales = df.groupby(['Month_Name','Product_Category']).agg({'Revenue':'mean', 'Order_Quantity':'mean'}).reset_index()\n",
        "Monthly_Sales = Monthly_Sales.set_index('Month_Name')\n",
        "months_ordered = ['Jan', 'Feb', 'Mar', 'Apr', 'May', 'Jun', 'Jul', 'Aug', 'Sep', 'Oct', 'Nov', 'Dec']\n",
        "Monthly_Sales.index = pd.CategoricalIndex(Monthly_Sales.index, categories=months_ordered, ordered=True)\n",
        "Monthly_Sales = Monthly_Sales.sort_index().reset_index()\n",
        "\n",
        "fig, axes = plt.subplots(figsize=(10,4))\n",
        "sns.barplot(x=\"Month_Name\", y= 'Revenue', ci=None,\n",
        "                data=Monthly_Sales)\n",
        "\n",
        "plt.show()"
      ],
      "metadata": {
        "id": "oS_MTdPYFb67"
      },
      "execution_count": null,
      "outputs": []
    },
    {
      "cell_type": "code",
      "source": [
        "sns.catplot(x='Month_Name', y= 'Revenue', col=\"Product_Category\", col_wrap=2,\n",
        "                data=Monthly_Sales, sharey=False, sharex=False, height=3, aspect=2,\n",
        "                kind=\"bar\")\n",
        "\n",
        "plt.show()"
      ],
      "metadata": {
        "id": "NdwHIzIOFdmy"
      },
      "execution_count": null,
      "outputs": []
    },
    {
      "cell_type": "markdown",
      "source": [
        "**Highest Sales of Day**\n",
        "\n",
        "Then, what is the day when people tend to buy more or the day that generated the highest and the lowest sales?"
      ],
      "metadata": {
        "id": "Y1BK-FtRFf27"
      }
    },
    {
      "cell_type": "code",
      "source": [
        "Day_Sales = df.groupby(['Day_of_Weekend','Product_Category']).agg({'Revenue':'mean'}).reset_index()\n",
        "Day_Sales = Day_Sales.set_index('Day_of_Weekend')\n",
        "day_ordered = ['Monday', 'Tuesday', 'Wednesday', 'Thursday', 'Friday', 'Saturday', 'Sunday']\n",
        "Day_Sales.index = pd.CategoricalIndex(Day_Sales.index, categories=day_ordered, ordered=True)\n",
        "Day_Sales = Day_Sales.sort_index().reset_index()\n",
        "\n",
        "fig, axes = plt.subplots(figsize=(10,4))\n",
        "sns.barplot(x=\"Day_of_Weekend\", y= 'Revenue', ci=None,\n",
        "                data=Day_Sales, palette='hls', ax=axes)\n",
        "\n",
        "plt.show()"
      ],
      "metadata": {
        "id": "gUxbnVemFjJt"
      },
      "execution_count": null,
      "outputs": []
    },
    {
      "cell_type": "code",
      "source": [
        "sns.catplot(x='Day_of_Weekend', y= 'Revenue', col=\"Product_Category\", col_wrap=2,\n",
        "                data=Day_Sales, sharey=False, sharex=False, palette='hls',\n",
        "                kind=\"bar\", height=3, aspect=2)\n",
        "\n",
        "plt.show()"
      ],
      "metadata": {
        "id": "n1lE5YYCFkwB"
      },
      "execution_count": null,
      "outputs": []
    },
    {
      "cell_type": "markdown",
      "source": [
        "# **Customer Analysis**\n",
        "**Age**"
      ],
      "metadata": {
        "id": "x19vhm2oFmng"
      }
    },
    {
      "cell_type": "code",
      "source": [
        "df.Customer_Age.plot(kind='hist', bins=30, figsize=(10,4));"
      ],
      "metadata": {
        "id": "evmJ3fwOFqPg"
      },
      "execution_count": null,
      "outputs": []
    },
    {
      "cell_type": "code",
      "source": [
        "sns.histplot(data=df, x='Age_Group')\n",
        "sns.set(rc={'figure.figsize':(8,4)});"
      ],
      "metadata": {
        "id": "2wIruxJmFr_h"
      },
      "execution_count": null,
      "outputs": []
    },
    {
      "cell_type": "markdown",
      "source": [
        "Majority of customers are around 25s, 30s, and 40s. The most of customers are coming from Adults Group.\n",
        "\n",
        "Now, It's time to answer some business questions related to age and age group."
      ],
      "metadata": {
        "id": "sPnUF6QfFtw2"
      }
    },
    {
      "cell_type": "markdown",
      "source": [
        "**Which the Age that provides the most Revenue and Profit?**"
      ],
      "metadata": {
        "id": "-yjfoBCtFv_V"
      }
    },
    {
      "cell_type": "code",
      "source": [
        "Age_Sales = df.groupby(['Customer_Age']).agg({'Revenue':'sum', 'Profit':'sum'}).sort_values(['Revenue','Profit'], ascending=False)[0:10]\n",
        "Age_Sales"
      ],
      "metadata": {
        "id": "G9NryRQpFx2_"
      },
      "execution_count": null,
      "outputs": []
    },
    {
      "cell_type": "code",
      "source": [
        "col1 = 'khaki'\n",
        "col2 = 'darkcyan'\n",
        "\n",
        "plt.figure(figsize=(10, 4))\n",
        "ax = sns.barplot(x=Age_Sales.index, y=Age_Sales.Revenue, data=Age_Sales, label='Revenue', color = col1)\n",
        "width_scale = 0.5\n",
        "for bar in ax.containers[0]:\n",
        "    bar.set_width(bar.get_width() * width_scale)\n",
        "    ax.legend(bbox_to_anchor=(1.05, 1.05), loc='upper left', borderaxespad=0)\n",
        "\n",
        "ax2 = ax.twinx()\n",
        "sns.barplot(x =Age_Sales.index, y =Age_Sales.Profit, data=Age_Sales, alpha=0.7, color = col2, label = 'Profit', ax=ax2)\n",
        "for bar in ax2.containers[0]:\n",
        "    x = bar.get_x()\n",
        "    w = bar.get_width()\n",
        "    bar.set_x(x + w * (1- width_scale))\n",
        "    bar.set_width(w * width_scale)\n",
        "    ax2.legend(bbox_to_anchor=(1.05, 0.97), loc='upper left', borderaxespad=0)\n",
        "plt.show()"
      ],
      "metadata": {
        "id": "3daIwcS_F0R9"
      },
      "execution_count": null,
      "outputs": []
    },
    {
      "cell_type": "markdown",
      "source": [
        "**Which the Age Group that generate the most Revenue and Profit?**"
      ],
      "metadata": {
        "id": "61-slvdoF3An"
      }
    },
    {
      "cell_type": "code",
      "source": [
        "AgeGroup_Sales = df.groupby(['Age_Group']).agg({'Revenue':'sum', 'Profit':'sum'}).sort_values(['Revenue','Profit'], ascending=False)\n",
        "AgeGroup_Sales"
      ],
      "metadata": {
        "id": "7LNJY6_4F5KC"
      },
      "execution_count": null,
      "outputs": []
    },
    {
      "cell_type": "code",
      "source": [
        "col1 = 'khaki'\n",
        "col2 = 'darkcyan'\n",
        "\n",
        "plt.figure(figsize=(10,4))\n",
        "ax = sns.barplot(x=AgeGroup_Sales.index, y=AgeGroup_Sales.Revenue, data=AgeGroup_Sales, label='Revenue', color = col1)\n",
        "width_scale = 0.5\n",
        "for bar in ax.containers[0]:\n",
        "    bar.set_width(bar.get_width() * width_scale)\n",
        "    ax.legend(bbox_to_anchor=(1.05, 1.05), loc='upper left', borderaxespad=0)\n",
        "\n",
        "ax2 = ax.twinx()\n",
        "sns.barplot(x =AgeGroup_Sales.index, y =AgeGroup_Sales.Profit, data=AgeGroup_Sales, alpha=0.7, color = col2, label = 'Profit', ax=ax2)\n",
        "for bar in ax2.containers[0]:\n",
        "    x = bar.get_x()\n",
        "    w = bar.get_width()\n",
        "    bar.set_x(x + w * (1- width_scale))\n",
        "    bar.set_width(w * width_scale)\n",
        "    ax2.legend(bbox_to_anchor=(1.05, 0.97), loc='upper left', borderaxespad=0)\n",
        "plt.show()"
      ],
      "metadata": {
        "id": "qnJlqXyFF77C"
      },
      "execution_count": null,
      "outputs": []
    },
    {
      "cell_type": "markdown",
      "source": [
        "**What is the Percentage of Revenue and Profit Based on Age Group?**"
      ],
      "metadata": {
        "id": "ZvSSJrF3F-BX"
      }
    },
    {
      "cell_type": "code",
      "source": [
        "AgeGroup_Sales.plot(kind='pie', subplots=True, wedgeprops=dict(width=.3), colors = ['#66b3ff', '#ff9999', '#99ff99','#ffcc99'], figsize=(10,10), autopct='%1.2f%%', legend=False, labels=AgeGroup_Sales.index)\n",
        "plt.tight_layout()\n",
        "plt.show();"
      ],
      "metadata": {
        "id": "NiWsAKVtGCcU"
      },
      "execution_count": null,
      "outputs": []
    }
  ]
}